{
 "cells": [
  {
   "cell_type": "markdown",
   "id": "9e844523",
   "metadata": {},
   "source": [
    "# Term Deposit Subscription Prediction Model"
   ]
  },
  {
   "cell_type": "markdown",
   "id": "5ef8fe24",
   "metadata": {},
   "source": [
    "## Function"
   ]
  },
  {
   "cell_type": "code",
   "execution_count": 1,
   "id": "f0f6fac7",
   "metadata": {},
   "outputs": [],
   "source": [
    "import pandas as pd\n",
    "import numpy as np\n",
    "import matplotlib.pyplot as plt\n",
    "from sklearn.model_selection import train_test_split\n",
    "from sklearn.impute import SimpleImputer\n",
    "from sklearn.preprocessing import StandardScaler\n",
    "from sklearn import metrics\n",
    "from sklearn.metrics import classification_report \n",
    "from sklearn.metrics import accuracy_score, precision_score, recall_score, f1_score\n",
    "from sklearn.metrics import roc_curve, roc_auc_score\n",
    "\n",
    "def importData(filename):\n",
    "    \"\"\"Fungsi untuk import data & hapus duplikat\n",
    "    :param filename: <string> nama file input (format .csv)\n",
    "    :return df: <pandas dataframe> sampel data\n",
    "    \"\"\"\n",
    "\n",
    "    # read data\n",
    "    data = pd.read_csv(filename, sep=\";\")\n",
    "    print(\"Data asli            : \", data.shape, \"- (#observasi, #kolom)\")\n",
    "\n",
    "    # drop duplicates\n",
    "    data = data.drop_duplicates()\n",
    "    print(\"Data setelah di-drop : \", data.shape, \"- (#observasi, #kolom)\")\n",
    "\n",
    "    return data\n",
    "\n",
    "\n",
    "def extractInputOutput(data, output_column_name):\n",
    "    \"\"\"Fungsi untuk memisahkan data input dan output\n",
    "    :param df: <pandas dataframe> data seluruh sample\n",
    "    :param output_column_name: <string> nama kolom output\n",
    "    :return input_data: <pandas dataframe> data input\n",
    "    :return output_data: <pandas series> data output\n",
    "    \"\"\"\n",
    "    # drop data\n",
    "    output_data = data[output_column_name].astype(\"int\")\n",
    "    input_data = data.drop(output_column_name, axis = 1)\n",
    "    \n",
    "    return input_data, output_data\n",
    "\n",
    "\n",
    "def extractCategorical(data, categorical_column):\n",
    "    \"\"\"\n",
    "    Fungsi untuk ekstrak data kategorikal dengan One Hot Encoding\n",
    "    :param data: <pandas dataframe> data sample\n",
    "    :param categorical_column: <list> list kolom kategorik\n",
    "    :return categorical_ohe: <pandas dataframe> data sample dengan ohe\n",
    "    \"\"\"\n",
    "    data_categorical = data[categorical_column]\n",
    "    categorical_ohe = pd.get_dummies(data_categorical)\n",
    "\n",
    "    return categorical_ohe\n",
    "\n",
    "\n",
    "def standardizerData(data):\n",
    "    \"\"\"\n",
    "    Fungsi untuk melakukan standarisasi data\n",
    "    :param data: <pandas dataframe> sampel data\n",
    "    :return standardized_data: <pandas dataframe> sampel data standard\n",
    "    :return standardizer: method untuk standardisasi data\n",
    "    \"\"\"\n",
    "    data_columns = data.columns  # agar nama kolom tidak hilang\n",
    "    data_index = data.index  # agar index tidak hilang\n",
    "\n",
    "    # buat (fit) standardizer\n",
    "    standardizer = StandardScaler()\n",
    "    standardizer.fit(data)\n",
    "\n",
    "    # transform data\n",
    "    standardized_data_raw = standardizer.transform(data)\n",
    "    standardized_data = pd.DataFrame(standardized_data_raw)\n",
    "    standardized_data.columns = data_columns\n",
    "    standardized_data.index = data_index\n",
    "\n",
    "    return standardized_data, standardizer\n",
    "\n",
    "    \n",
    "def extractData(data,\n",
    "                numerical_column, categorical_column, ohe_column,\n",
    "                standardizer):\n",
    "    \"\"\"\n",
    "    Fungsi untuk mengekstrak & membersihkan data \n",
    "    :param data: <pandas dataframe> sampel data\n",
    "    :param numerical_column: <list> kolom numerik\n",
    "    :param categorical_column: <list> kolom kategorik\n",
    "    :param ohe_column: <list> kolom one-hot-encoding dari data kategorik\n",
    "    :param standardizer: <sklearn method> standardizer data\n",
    "    :return cleaned_data: <pandas dataframe> data final\n",
    "    \"\"\"\n",
    "    # Filter data\n",
    "    numerical_data = data[numerical_column]\n",
    "    categorical_data = data[categorical_column]\n",
    "\n",
    "    # Proses data numerik\n",
    "    numerical_data.columns = numerical_column\n",
    "    numerical_data.index = data.index\n",
    "\n",
    "    # Proses data kategorik\n",
    "    categorical_data = categorical_data.fillna(value=\"KOSONG\")\n",
    "    categorical_data.index = data.index\n",
    "    categorical_data = pd.get_dummies(categorical_data)\n",
    "    categorical_data.reindex(index = categorical_data.index, \n",
    "                             columns = ohe_column)\n",
    "\n",
    "    # Gabungkan data\n",
    "    concat_data = pd.concat([numerical_data, categorical_data],\n",
    "                             axis = 1)\n",
    "    cleaned_data = pd.DataFrame(standardizer.transform(concat_data))\n",
    "    cleaned_data.columns = concat_data.columns\n",
    "\n",
    "    return cleaned_data\n",
    "\n",
    "\n",
    "class Model:\n",
    "    \"\"\"\n",
    "    Class untuk menyimpan data-data performa setiap model yang dibuat.\n",
    "    \"\"\"\n",
    "    def __init__(self, y_pred):\n",
    "        \"\"\"\n",
    "        Fungsi inisialisasi untuk menyimpan performa model.\n",
    "        :param y_pred: <pandas dataframe> output y hasil prediksi model\n",
    "        \"\"\"\n",
    "        self.accuracy = 0\n",
    "        self.precision = 0\n",
    "        self.recall = 0\n",
    "        self.f1 = 0\n",
    "        self.y_pred = y_pred\n",
    "        self.auc = 0\n",
    "        \n",
    "    def checkAccuracy(self, y_true):\n",
    "        \"\"\"\n",
    "        Fungsi untuk menghitung akurasi hasil prediksi jika dibandingkan dengan output seharusnya.\n",
    "        :param y_true: <pandas dataframe> output yang seharusnya\n",
    "        :param y_pred: <pandas datafram> output hasil prediksi\n",
    "        \"\"\"\n",
    "\n",
    "        # Visualisasi Confusion Matrix\n",
    "        confusion_matrix = metrics.confusion_matrix(y_true, self.y_pred)\n",
    "        cm_display = metrics.ConfusionMatrixDisplay(confusion_matrix = confusion_matrix, display_labels = [False, True])\n",
    "        cm_display.plot()\n",
    "        plt.xlabel(\"Prediction\")\n",
    "        plt.ylabel(\"Actual\")\n",
    "        plt.show()\n",
    "        \n",
    "        # Menghitung akurasi\n",
    "        self.accuracy = np.round(accuracy_score(y_true, self.y_pred),2)\n",
    "        self.precision = np.round(precision_score(y_true, self.y_pred),2)\n",
    "        self.recall = np.round(recall_score(y_true, self.y_pred),2)\n",
    "        self.f1 = np.round(f1_score(y_true, self.y_pred),2)\n",
    "        \n",
    "        # Menampilkan akurasi\n",
    "        print(\"Accuracy:\", self.accuracy)\n",
    "        print(\"Precision:\", self.precision)\n",
    "        print(\"Recall:\", self.recall)\n",
    "        print(\"F1 score:\", self.f1)\n",
    "\n",
    "        return \n",
    "    \n",
    "    \n",
    "    def printAccuracy(self):\n",
    "        \"\"\"\n",
    "        Fungsi untuk menampilkan seluruh data performa model.\n",
    "        \"\"\"\n",
    "        print(\"Accuracy:\", self.accuracy)\n",
    "        print(\"Precision:\", self.precision)\n",
    "        print(\"Recall:\", self.recall)\n",
    "        print(\"F1 score:\", self.f1)\n",
    "        print(\"AUC:\", self.auc)\n",
    "    \n",
    "    \n",
    "    def plotROC(self, y_true):\n",
    "        \"\"\"\n",
    "        Fungsi untuk menampilkan visualisasi ROC Curve.\n",
    "        :param y_true: output y yang seharusnya\n",
    "        \"\"\"\n",
    "        fpr, tpr, thresholds = roc_curve(y_true, self.y_pred)\n",
    "        self.auc = np.round(roc_auc_score(y_true, self.y_pred),2)\n",
    "        \n",
    "        plt.plot(fpr, tpr, label='ROC curve (AUC = %0.2f)' % self.auc)\n",
    "        plt.xlabel('False Positive Rate')\n",
    "        plt.ylabel('True Positive Rate (Recall)')\n",
    "        plt.title('ROC Curve with AUC')\n",
    "        plt.legend(loc='lower right')\n",
    "        plt.plot([0, 1], [0, 1], linestyle='--')\n",
    "        plt.show()"
   ]
  },
  {
   "cell_type": "markdown",
   "id": "0c6be0c7",
   "metadata": {},
   "source": [
    "# PERCOBAAN 1: Pemodelan dengan Data Imbalance\n",
    "# 1. Baca Data"
   ]
  },
  {
   "cell_type": "code",
   "execution_count": 2,
   "id": "141e28c0",
   "metadata": {
    "scrolled": true
   },
   "outputs": [
    {
     "name": "stdout",
     "output_type": "stream",
     "text": [
      "Data asli            :  (4521, 17) - (#observasi, #kolom)\n",
      "Data setelah di-drop :  (4521, 17) - (#observasi, #kolom)\n"
     ]
    }
   ],
   "source": [
    "df = importData(\"bank.csv\")"
   ]
  },
  {
   "cell_type": "code",
   "execution_count": 3,
   "id": "c52cc50e",
   "metadata": {
    "scrolled": false
   },
   "outputs": [
    {
     "data": {
      "text/html": [
       "<div>\n",
       "<style scoped>\n",
       "    .dataframe tbody tr th:only-of-type {\n",
       "        vertical-align: middle;\n",
       "    }\n",
       "\n",
       "    .dataframe tbody tr th {\n",
       "        vertical-align: top;\n",
       "    }\n",
       "\n",
       "    .dataframe thead th {\n",
       "        text-align: right;\n",
       "    }\n",
       "</style>\n",
       "<table border=\"1\" class=\"dataframe\">\n",
       "  <thead>\n",
       "    <tr style=\"text-align: right;\">\n",
       "      <th></th>\n",
       "      <th>age</th>\n",
       "      <th>job</th>\n",
       "      <th>marital</th>\n",
       "      <th>education</th>\n",
       "      <th>default</th>\n",
       "      <th>balance</th>\n",
       "      <th>housing</th>\n",
       "      <th>loan</th>\n",
       "      <th>contact</th>\n",
       "      <th>day</th>\n",
       "      <th>month</th>\n",
       "      <th>duration</th>\n",
       "      <th>campaign</th>\n",
       "      <th>pdays</th>\n",
       "      <th>previous</th>\n",
       "      <th>poutcome</th>\n",
       "      <th>y</th>\n",
       "    </tr>\n",
       "  </thead>\n",
       "  <tbody>\n",
       "    <tr>\n",
       "      <th>0</th>\n",
       "      <td>30</td>\n",
       "      <td>unemployed</td>\n",
       "      <td>married</td>\n",
       "      <td>primary</td>\n",
       "      <td>no</td>\n",
       "      <td>1787</td>\n",
       "      <td>no</td>\n",
       "      <td>no</td>\n",
       "      <td>cellular</td>\n",
       "      <td>19</td>\n",
       "      <td>oct</td>\n",
       "      <td>79</td>\n",
       "      <td>1</td>\n",
       "      <td>-1</td>\n",
       "      <td>0</td>\n",
       "      <td>unknown</td>\n",
       "      <td>no</td>\n",
       "    </tr>\n",
       "    <tr>\n",
       "      <th>1</th>\n",
       "      <td>33</td>\n",
       "      <td>services</td>\n",
       "      <td>married</td>\n",
       "      <td>secondary</td>\n",
       "      <td>no</td>\n",
       "      <td>4789</td>\n",
       "      <td>yes</td>\n",
       "      <td>yes</td>\n",
       "      <td>cellular</td>\n",
       "      <td>11</td>\n",
       "      <td>may</td>\n",
       "      <td>220</td>\n",
       "      <td>1</td>\n",
       "      <td>339</td>\n",
       "      <td>4</td>\n",
       "      <td>failure</td>\n",
       "      <td>no</td>\n",
       "    </tr>\n",
       "    <tr>\n",
       "      <th>2</th>\n",
       "      <td>35</td>\n",
       "      <td>management</td>\n",
       "      <td>single</td>\n",
       "      <td>tertiary</td>\n",
       "      <td>no</td>\n",
       "      <td>1350</td>\n",
       "      <td>yes</td>\n",
       "      <td>no</td>\n",
       "      <td>cellular</td>\n",
       "      <td>16</td>\n",
       "      <td>apr</td>\n",
       "      <td>185</td>\n",
       "      <td>1</td>\n",
       "      <td>330</td>\n",
       "      <td>1</td>\n",
       "      <td>failure</td>\n",
       "      <td>no</td>\n",
       "    </tr>\n",
       "    <tr>\n",
       "      <th>3</th>\n",
       "      <td>30</td>\n",
       "      <td>management</td>\n",
       "      <td>married</td>\n",
       "      <td>tertiary</td>\n",
       "      <td>no</td>\n",
       "      <td>1476</td>\n",
       "      <td>yes</td>\n",
       "      <td>yes</td>\n",
       "      <td>unknown</td>\n",
       "      <td>3</td>\n",
       "      <td>jun</td>\n",
       "      <td>199</td>\n",
       "      <td>4</td>\n",
       "      <td>-1</td>\n",
       "      <td>0</td>\n",
       "      <td>unknown</td>\n",
       "      <td>no</td>\n",
       "    </tr>\n",
       "    <tr>\n",
       "      <th>4</th>\n",
       "      <td>59</td>\n",
       "      <td>blue-collar</td>\n",
       "      <td>married</td>\n",
       "      <td>secondary</td>\n",
       "      <td>no</td>\n",
       "      <td>0</td>\n",
       "      <td>yes</td>\n",
       "      <td>no</td>\n",
       "      <td>unknown</td>\n",
       "      <td>5</td>\n",
       "      <td>may</td>\n",
       "      <td>226</td>\n",
       "      <td>1</td>\n",
       "      <td>-1</td>\n",
       "      <td>0</td>\n",
       "      <td>unknown</td>\n",
       "      <td>no</td>\n",
       "    </tr>\n",
       "  </tbody>\n",
       "</table>\n",
       "</div>"
      ],
      "text/plain": [
       "   age          job  marital  education default  balance housing loan  \\\n",
       "0   30   unemployed  married    primary      no     1787      no   no   \n",
       "1   33     services  married  secondary      no     4789     yes  yes   \n",
       "2   35   management   single   tertiary      no     1350     yes   no   \n",
       "3   30   management  married   tertiary      no     1476     yes  yes   \n",
       "4   59  blue-collar  married  secondary      no        0     yes   no   \n",
       "\n",
       "    contact  day month  duration  campaign  pdays  previous poutcome   y  \n",
       "0  cellular   19   oct        79         1     -1         0  unknown  no  \n",
       "1  cellular   11   may       220         1    339         4  failure  no  \n",
       "2  cellular   16   apr       185         1    330         1  failure  no  \n",
       "3   unknown    3   jun       199         4     -1         0  unknown  no  \n",
       "4   unknown    5   may       226         1     -1         0  unknown  no  "
      ]
     },
     "execution_count": 3,
     "metadata": {},
     "output_type": "execute_result"
    }
   ],
   "source": [
    "df.head()"
   ]
  },
  {
   "cell_type": "code",
   "execution_count": 4,
   "id": "c3565fd5",
   "metadata": {},
   "outputs": [
    {
     "data": {
      "text/plain": [
       "<AxesSubplot:title={'center':'Output'}, xlabel='y'>"
      ]
     },
     "execution_count": 4,
     "metadata": {},
     "output_type": "execute_result"
    },
    {
     "data": {
      "image/png": "[encoded data removed]",
      "text/plain": [
       "<Figure size 432x288 with 1 Axes>"
      ]
     },
     "metadata": {
      "needs_background": "light"
     },
     "output_type": "display_data"
    }
   ],
   "source": [
    "df.pivot_table(index='y', aggfunc='size').plot(kind='bar', title='Output')"
   ]
  },
  {
   "cell_type": "markdown",
   "id": "8fa14006",
   "metadata": {},
   "source": [
    "# 2. Data Cleaning"
   ]
  },
  {
   "cell_type": "markdown",
   "id": "90c350db",
   "metadata": {},
   "source": [
    "## 2.1. Mengecek missing value"
   ]
  },
  {
   "cell_type": "code",
   "execution_count": 5,
   "id": "d76e1a61",
   "metadata": {},
   "outputs": [
    {
     "data": {
      "text/plain": [
       "age          0\n",
       "job          0\n",
       "marital      0\n",
       "education    0\n",
       "default      0\n",
       "balance      0\n",
       "housing      0\n",
       "loan         0\n",
       "contact      0\n",
       "day          0\n",
       "month        0\n",
       "duration     0\n",
       "campaign     0\n",
       "pdays        0\n",
       "previous     0\n",
       "poutcome     0\n",
       "y            0\n",
       "dtype: int64"
      ]
     },
     "execution_count": 5,
     "metadata": {},
     "output_type": "execute_result"
    }
   ],
   "source": [
    "df.isna().sum()"
   ]
  },
  {
   "cell_type": "markdown",
   "id": "bd5bf151",
   "metadata": {},
   "source": [
    "Tidak ada missing value."
   ]
  },
  {
   "cell_type": "markdown",
   "id": "1beb88b0",
   "metadata": {},
   "source": [
    "## 2.2. Mengecek tipe data"
   ]
  },
  {
   "cell_type": "code",
   "execution_count": 6,
   "id": "d32e3b66",
   "metadata": {},
   "outputs": [
    {
     "name": "stdout",
     "output_type": "stream",
     "text": [
      "<class 'pandas.core.frame.DataFrame'>\n",
      "Int64Index: 4521 entries, 0 to 4520\n",
      "Data columns (total 17 columns):\n",
      " #   Column     Non-Null Count  Dtype \n",
      "---  ------     --------------  ----- \n",
      " 0   age        4521 non-null   int64 \n",
      " 1   job        4521 non-null   object\n",
      " 2   marital    4521 non-null   object\n",
      " 3   education  4521 non-null   object\n",
      " 4   default    4521 non-null   object\n",
      " 5   balance    4521 non-null   int64 \n",
      " 6   housing    4521 non-null   object\n",
      " 7   loan       4521 non-null   object\n",
      " 8   contact    4521 non-null   object\n",
      " 9   day        4521 non-null   int64 \n",
      " 10  month      4521 non-null   object\n",
      " 11  duration   4521 non-null   int64 \n",
      " 12  campaign   4521 non-null   int64 \n",
      " 13  pdays      4521 non-null   int64 \n",
      " 14  previous   4521 non-null   int64 \n",
      " 15  poutcome   4521 non-null   object\n",
      " 16  y          4521 non-null   object\n",
      "dtypes: int64(7), object(10)\n",
      "memory usage: 635.8+ KB\n"
     ]
    }
   ],
   "source": [
    "df.info()"
   ]
  },
  {
   "cell_type": "markdown",
   "id": "d32f4a45",
   "metadata": {},
   "source": [
    "Tipe data sudah benar."
   ]
  },
  {
   "cell_type": "markdown",
   "id": "f8502ee0",
   "metadata": {},
   "source": [
    "## 2.3. Mengecek isi data numerik"
   ]
  },
  {
   "cell_type": "code",
   "execution_count": 7,
   "id": "a44cec01",
   "metadata": {
    "scrolled": true
   },
   "outputs": [
    {
     "data": {
      "text/html": [
       "<div>\n",
       "<style scoped>\n",
       "    .dataframe tbody tr th:only-of-type {\n",
       "        vertical-align: middle;\n",
       "    }\n",
       "\n",
       "    .dataframe tbody tr th {\n",
       "        vertical-align: top;\n",
       "    }\n",
       "\n",
       "    .dataframe thead th {\n",
       "        text-align: right;\n",
       "    }\n",
       "</style>\n",
       "<table border=\"1\" class=\"dataframe\">\n",
       "  <thead>\n",
       "    <tr style=\"text-align: right;\">\n",
       "      <th></th>\n",
       "      <th>age</th>\n",
       "      <th>balance</th>\n",
       "      <th>day</th>\n",
       "      <th>duration</th>\n",
       "      <th>campaign</th>\n",
       "      <th>pdays</th>\n",
       "      <th>previous</th>\n",
       "    </tr>\n",
       "  </thead>\n",
       "  <tbody>\n",
       "    <tr>\n",
       "      <th>count</th>\n",
       "      <td>4521.000000</td>\n",
       "      <td>4521.000000</td>\n",
       "      <td>4521.000000</td>\n",
       "      <td>4521.000000</td>\n",
       "      <td>4521.000000</td>\n",
       "      <td>4521.000000</td>\n",
       "      <td>4521.000000</td>\n",
       "    </tr>\n",
       "    <tr>\n",
       "      <th>mean</th>\n",
       "      <td>41.170095</td>\n",
       "      <td>1422.657819</td>\n",
       "      <td>15.915284</td>\n",
       "      <td>263.961292</td>\n",
       "      <td>2.793630</td>\n",
       "      <td>39.766645</td>\n",
       "      <td>0.542579</td>\n",
       "    </tr>\n",
       "    <tr>\n",
       "      <th>std</th>\n",
       "      <td>10.576211</td>\n",
       "      <td>3009.638142</td>\n",
       "      <td>8.247667</td>\n",
       "      <td>259.856633</td>\n",
       "      <td>3.109807</td>\n",
       "      <td>100.121124</td>\n",
       "      <td>1.693562</td>\n",
       "    </tr>\n",
       "    <tr>\n",
       "      <th>min</th>\n",
       "      <td>19.000000</td>\n",
       "      <td>-3313.000000</td>\n",
       "      <td>1.000000</td>\n",
       "      <td>4.000000</td>\n",
       "      <td>1.000000</td>\n",
       "      <td>-1.000000</td>\n",
       "      <td>0.000000</td>\n",
       "    </tr>\n",
       "    <tr>\n",
       "      <th>25%</th>\n",
       "      <td>33.000000</td>\n",
       "      <td>69.000000</td>\n",
       "      <td>9.000000</td>\n",
       "      <td>104.000000</td>\n",
       "      <td>1.000000</td>\n",
       "      <td>-1.000000</td>\n",
       "      <td>0.000000</td>\n",
       "    </tr>\n",
       "    <tr>\n",
       "      <th>50%</th>\n",
       "      <td>39.000000</td>\n",
       "      <td>444.000000</td>\n",
       "      <td>16.000000</td>\n",
       "      <td>185.000000</td>\n",
       "      <td>2.000000</td>\n",
       "      <td>-1.000000</td>\n",
       "      <td>0.000000</td>\n",
       "    </tr>\n",
       "    <tr>\n",
       "      <th>75%</th>\n",
       "      <td>49.000000</td>\n",
       "      <td>1480.000000</td>\n",
       "      <td>21.000000</td>\n",
       "      <td>329.000000</td>\n",
       "      <td>3.000000</td>\n",
       "      <td>-1.000000</td>\n",
       "      <td>0.000000</td>\n",
       "    </tr>\n",
       "    <tr>\n",
       "      <th>max</th>\n",
       "      <td>87.000000</td>\n",
       "      <td>71188.000000</td>\n",
       "      <td>31.000000</td>\n",
       "      <td>3025.000000</td>\n",
       "      <td>50.000000</td>\n",
       "      <td>871.000000</td>\n",
       "      <td>25.000000</td>\n",
       "    </tr>\n",
       "  </tbody>\n",
       "</table>\n",
       "</div>"
      ],
      "text/plain": [
       "               age       balance          day     duration     campaign  \\\n",
       "count  4521.000000   4521.000000  4521.000000  4521.000000  4521.000000   \n",
       "mean     41.170095   1422.657819    15.915284   263.961292     2.793630   \n",
       "std      10.576211   3009.638142     8.247667   259.856633     3.109807   \n",
       "min      19.000000  -3313.000000     1.000000     4.000000     1.000000   \n",
       "25%      33.000000     69.000000     9.000000   104.000000     1.000000   \n",
       "50%      39.000000    444.000000    16.000000   185.000000     2.000000   \n",
       "75%      49.000000   1480.000000    21.000000   329.000000     3.000000   \n",
       "max      87.000000  71188.000000    31.000000  3025.000000    50.000000   \n",
       "\n",
       "             pdays     previous  \n",
       "count  4521.000000  4521.000000  \n",
       "mean     39.766645     0.542579  \n",
       "std     100.121124     1.693562  \n",
       "min      -1.000000     0.000000  \n",
       "25%      -1.000000     0.000000  \n",
       "50%      -1.000000     0.000000  \n",
       "75%      -1.000000     0.000000  \n",
       "max     871.000000    25.000000  "
      ]
     },
     "execution_count": 7,
     "metadata": {},
     "output_type": "execute_result"
    }
   ],
   "source": [
    "df.describe()"
   ]
  },
  {
   "cell_type": "markdown",
   "id": "90e720fb",
   "metadata": {},
   "source": [
    "**Mengganti data pdays <0 menjadi 999**"
   ]
  },
  {
   "cell_type": "code",
   "execution_count": 8,
   "id": "84b1157c",
   "metadata": {},
   "outputs": [
    {
     "data": {
      "text/plain": [
       "count    4521.000000\n",
       "mean      859.275603\n",
       "std       301.892276\n",
       "min         1.000000\n",
       "25%       999.000000\n",
       "50%       999.000000\n",
       "75%       999.000000\n",
       "max       999.000000\n",
       "Name: pdays, dtype: float64"
      ]
     },
     "execution_count": 8,
     "metadata": {},
     "output_type": "execute_result"
    }
   ],
   "source": [
    "df.loc[df[\"pdays\"]<0, \"pdays\"]=999\n",
    "df[\"pdays\"].describe()"
   ]
  },
  {
   "cell_type": "markdown",
   "id": "ea2002dd",
   "metadata": {},
   "source": [
    "# 3. Data Preprocessing"
   ]
  },
  {
   "cell_type": "markdown",
   "id": "93db17e3",
   "metadata": {},
   "source": [
    "## 3.1. Mengubah output menjadi numerik"
   ]
  },
  {
   "cell_type": "code",
   "execution_count": 9,
   "id": "36d55feb",
   "metadata": {
    "scrolled": true
   },
   "outputs": [
    {
     "data": {
      "text/html": [
       "<div>\n",
       "<style scoped>\n",
       "    .dataframe tbody tr th:only-of-type {\n",
       "        vertical-align: middle;\n",
       "    }\n",
       "\n",
       "    .dataframe tbody tr th {\n",
       "        vertical-align: top;\n",
       "    }\n",
       "\n",
       "    .dataframe thead th {\n",
       "        text-align: right;\n",
       "    }\n",
       "</style>\n",
       "<table border=\"1\" class=\"dataframe\">\n",
       "  <thead>\n",
       "    <tr style=\"text-align: right;\">\n",
       "      <th></th>\n",
       "      <th>age</th>\n",
       "      <th>job</th>\n",
       "      <th>marital</th>\n",
       "      <th>education</th>\n",
       "      <th>default</th>\n",
       "      <th>balance</th>\n",
       "      <th>housing</th>\n",
       "      <th>loan</th>\n",
       "      <th>contact</th>\n",
       "      <th>day</th>\n",
       "      <th>month</th>\n",
       "      <th>duration</th>\n",
       "      <th>campaign</th>\n",
       "      <th>pdays</th>\n",
       "      <th>previous</th>\n",
       "      <th>poutcome</th>\n",
       "      <th>y</th>\n",
       "    </tr>\n",
       "  </thead>\n",
       "  <tbody>\n",
       "    <tr>\n",
       "      <th>0</th>\n",
       "      <td>30</td>\n",
       "      <td>unemployed</td>\n",
       "      <td>married</td>\n",
       "      <td>primary</td>\n",
       "      <td>no</td>\n",
       "      <td>1787</td>\n",
       "      <td>no</td>\n",
       "      <td>no</td>\n",
       "      <td>cellular</td>\n",
       "      <td>19</td>\n",
       "      <td>oct</td>\n",
       "      <td>79</td>\n",
       "      <td>1</td>\n",
       "      <td>999</td>\n",
       "      <td>0</td>\n",
       "      <td>unknown</td>\n",
       "      <td>0</td>\n",
       "    </tr>\n",
       "    <tr>\n",
       "      <th>1</th>\n",
       "      <td>33</td>\n",
       "      <td>services</td>\n",
       "      <td>married</td>\n",
       "      <td>secondary</td>\n",
       "      <td>no</td>\n",
       "      <td>4789</td>\n",
       "      <td>yes</td>\n",
       "      <td>yes</td>\n",
       "      <td>cellular</td>\n",
       "      <td>11</td>\n",
       "      <td>may</td>\n",
       "      <td>220</td>\n",
       "      <td>1</td>\n",
       "      <td>339</td>\n",
       "      <td>4</td>\n",
       "      <td>failure</td>\n",
       "      <td>0</td>\n",
       "    </tr>\n",
       "    <tr>\n",
       "      <th>2</th>\n",
       "      <td>35</td>\n",
       "      <td>management</td>\n",
       "      <td>single</td>\n",
       "      <td>tertiary</td>\n",
       "      <td>no</td>\n",
       "      <td>1350</td>\n",
       "      <td>yes</td>\n",
       "      <td>no</td>\n",
       "      <td>cellular</td>\n",
       "      <td>16</td>\n",
       "      <td>apr</td>\n",
       "      <td>185</td>\n",
       "      <td>1</td>\n",
       "      <td>330</td>\n",
       "      <td>1</td>\n",
       "      <td>failure</td>\n",
       "      <td>0</td>\n",
       "    </tr>\n",
       "    <tr>\n",
       "      <th>3</th>\n",
       "      <td>30</td>\n",
       "      <td>management</td>\n",
       "      <td>married</td>\n",
       "      <td>tertiary</td>\n",
       "      <td>no</td>\n",
       "      <td>1476</td>\n",
       "      <td>yes</td>\n",
       "      <td>yes</td>\n",
       "      <td>unknown</td>\n",
       "      <td>3</td>\n",
       "      <td>jun</td>\n",
       "      <td>199</td>\n",
       "      <td>4</td>\n",
       "      <td>999</td>\n",
       "      <td>0</td>\n",
       "      <td>unknown</td>\n",
       "      <td>0</td>\n",
       "    </tr>\n",
       "    <tr>\n",
       "      <th>4</th>\n",
       "      <td>59</td>\n",
       "      <td>blue-collar</td>\n",
       "      <td>married</td>\n",
       "      <td>secondary</td>\n",
       "      <td>no</td>\n",
       "      <td>0</td>\n",
       "      <td>yes</td>\n",
       "      <td>no</td>\n",
       "      <td>unknown</td>\n",
       "      <td>5</td>\n",
       "      <td>may</td>\n",
       "      <td>226</td>\n",
       "      <td>1</td>\n",
       "      <td>999</td>\n",
       "      <td>0</td>\n",
       "      <td>unknown</td>\n",
       "      <td>0</td>\n",
       "    </tr>\n",
       "  </tbody>\n",
       "</table>\n",
       "</div>"
      ],
      "text/plain": [
       "   age          job  marital  education default  balance housing loan  \\\n",
       "0   30   unemployed  married    primary      no     1787      no   no   \n",
       "1   33     services  married  secondary      no     4789     yes  yes   \n",
       "2   35   management   single   tertiary      no     1350     yes   no   \n",
       "3   30   management  married   tertiary      no     1476     yes  yes   \n",
       "4   59  blue-collar  married  secondary      no        0     yes   no   \n",
       "\n",
       "    contact  day month  duration  campaign  pdays  previous poutcome  y  \n",
       "0  cellular   19   oct        79         1    999         0  unknown  0  \n",
       "1  cellular   11   may       220         1    339         4  failure  0  \n",
       "2  cellular   16   apr       185         1    330         1  failure  0  \n",
       "3   unknown    3   jun       199         4    999         0  unknown  0  \n",
       "4   unknown    5   may       226         1    999         0  unknown  0  "
      ]
     },
     "execution_count": 9,
     "metadata": {},
     "output_type": "execute_result"
    }
   ],
   "source": [
    "df.loc[df[\"y\"]==\"no\", \"y\"] = 0\n",
    "df.loc[df[\"y\"]==\"yes\", \"y\"] = 1\n",
    "df[\"y\"] = df[\"y\"].astype(\"int\")\n",
    "df.head()"
   ]
  },
  {
   "cell_type": "markdown",
   "id": "c8838f3b",
   "metadata": {},
   "source": [
    "## 3.2. Memisahkan Data Train dan Data Test"
   ]
  },
  {
   "cell_type": "code",
   "execution_count": 10,
   "id": "3e5bd7e3",
   "metadata": {
    "scrolled": true
   },
   "outputs": [
    {
     "name": "stdout",
     "output_type": "stream",
     "text": [
      "Ratio: 0.20017695200176952\n",
      "Dimensi data train: (3616, 17)\n",
      "Dimensi data test: (905, 17)\n"
     ]
    }
   ],
   "source": [
    "# Train test split\n",
    "data_train, data_test = train_test_split(df, test_size = 0.20, random_state = 12)\n",
    "\n",
    "# Ratio check (harus sama dengan test_size)\n",
    "print(\"Ratio:\", data_test.shape[0] / df.shape[0])\n",
    "print(\"Dimensi data train:\", data_train.shape)\n",
    "print(\"Dimensi data test:\", data_test.shape)"
   ]
  },
  {
   "cell_type": "code",
   "execution_count": 11,
   "id": "f54a87b7",
   "metadata": {},
   "outputs": [],
   "source": [
    "# Meng-export data_train ke dalam excel (untuk Exploratory Data Analysis via Tableau)\n",
    "data_train.to_excel(\"data_train.xlsx\", index=False)"
   ]
  },
  {
   "cell_type": "markdown",
   "id": "2e8b1292",
   "metadata": {},
   "source": [
    "## 3.3. Menghapus Kolom yang Tidak Digunakan"
   ]
  },
  {
   "cell_type": "code",
   "execution_count": 12,
   "id": "3bdd4a3c",
   "metadata": {
    "scrolled": true
   },
   "outputs": [
    {
     "data": {
      "text/html": [
       "<div>\n",
       "<style scoped>\n",
       "    .dataframe tbody tr th:only-of-type {\n",
       "        vertical-align: middle;\n",
       "    }\n",
       "\n",
       "    .dataframe tbody tr th {\n",
       "        vertical-align: top;\n",
       "    }\n",
       "\n",
       "    .dataframe thead th {\n",
       "        text-align: right;\n",
       "    }\n",
       "</style>\n",
       "<table border=\"1\" class=\"dataframe\">\n",
       "  <thead>\n",
       "    <tr style=\"text-align: right;\">\n",
       "      <th></th>\n",
       "      <th>age</th>\n",
       "      <th>job</th>\n",
       "      <th>marital</th>\n",
       "      <th>education</th>\n",
       "      <th>balance</th>\n",
       "      <th>housing</th>\n",
       "      <th>loan</th>\n",
       "      <th>campaign</th>\n",
       "      <th>previous</th>\n",
       "      <th>poutcome</th>\n",
       "      <th>y</th>\n",
       "    </tr>\n",
       "  </thead>\n",
       "  <tbody>\n",
       "    <tr>\n",
       "      <th>4043</th>\n",
       "      <td>39</td>\n",
       "      <td>services</td>\n",
       "      <td>divorced</td>\n",
       "      <td>secondary</td>\n",
       "      <td>282</td>\n",
       "      <td>yes</td>\n",
       "      <td>no</td>\n",
       "      <td>1</td>\n",
       "      <td>0</td>\n",
       "      <td>unknown</td>\n",
       "      <td>0</td>\n",
       "    </tr>\n",
       "    <tr>\n",
       "      <th>1458</th>\n",
       "      <td>36</td>\n",
       "      <td>management</td>\n",
       "      <td>married</td>\n",
       "      <td>tertiary</td>\n",
       "      <td>2987</td>\n",
       "      <td>yes</td>\n",
       "      <td>no</td>\n",
       "      <td>1</td>\n",
       "      <td>0</td>\n",
       "      <td>unknown</td>\n",
       "      <td>1</td>\n",
       "    </tr>\n",
       "    <tr>\n",
       "      <th>3655</th>\n",
       "      <td>44</td>\n",
       "      <td>management</td>\n",
       "      <td>married</td>\n",
       "      <td>tertiary</td>\n",
       "      <td>1242</td>\n",
       "      <td>yes</td>\n",
       "      <td>no</td>\n",
       "      <td>6</td>\n",
       "      <td>0</td>\n",
       "      <td>unknown</td>\n",
       "      <td>0</td>\n",
       "    </tr>\n",
       "    <tr>\n",
       "      <th>4413</th>\n",
       "      <td>65</td>\n",
       "      <td>retired</td>\n",
       "      <td>married</td>\n",
       "      <td>primary</td>\n",
       "      <td>493</td>\n",
       "      <td>no</td>\n",
       "      <td>no</td>\n",
       "      <td>1</td>\n",
       "      <td>1</td>\n",
       "      <td>failure</td>\n",
       "      <td>0</td>\n",
       "    </tr>\n",
       "    <tr>\n",
       "      <th>2154</th>\n",
       "      <td>36</td>\n",
       "      <td>blue-collar</td>\n",
       "      <td>married</td>\n",
       "      <td>secondary</td>\n",
       "      <td>63</td>\n",
       "      <td>yes</td>\n",
       "      <td>no</td>\n",
       "      <td>8</td>\n",
       "      <td>0</td>\n",
       "      <td>unknown</td>\n",
       "      <td>0</td>\n",
       "    </tr>\n",
       "  </tbody>\n",
       "</table>\n",
       "</div>"
      ],
      "text/plain": [
       "      age          job   marital  education  balance housing loan  campaign  \\\n",
       "4043   39     services  divorced  secondary      282     yes   no         1   \n",
       "1458   36   management   married   tertiary     2987     yes   no         1   \n",
       "3655   44   management   married   tertiary     1242     yes   no         6   \n",
       "4413   65      retired   married    primary      493      no   no         1   \n",
       "2154   36  blue-collar   married  secondary       63     yes   no         8   \n",
       "\n",
       "      previous poutcome  y  \n",
       "4043         0  unknown  0  \n",
       "1458         0  unknown  1  \n",
       "3655         0  unknown  0  \n",
       "4413         1  failure  0  \n",
       "2154         0  unknown  0  "
      ]
     },
     "execution_count": 12,
     "metadata": {},
     "output_type": "execute_result"
    }
   ],
   "source": [
    "data_train.drop([\"pdays\", \"default\", \"contact\", \"day\", \"month\", \"duration\"], axis=1, inplace=True)\n",
    "data_test.drop([\"pdays\", \"default\", \"contact\", \"day\", \"month\", \"duration\"], axis=1, inplace=True)\n",
    "data_train.head()"
   ]
  },
  {
   "cell_type": "markdown",
   "id": "ce92b489",
   "metadata": {},
   "source": [
    "## 3.4. Memisahkan Input dan Output"
   ]
  },
  {
   "cell_type": "code",
   "execution_count": 13,
   "id": "8f65fbbd",
   "metadata": {
    "scrolled": false
   },
   "outputs": [
    {
     "name": "stdout",
     "output_type": "stream",
     "text": [
      "Data training: (3616, 10) (3616,)\n",
      "Data test: (905, 10) (905,)\n"
     ]
    },
    {
     "data": {
      "text/html": [
       "<div>\n",
       "<style scoped>\n",
       "    .dataframe tbody tr th:only-of-type {\n",
       "        vertical-align: middle;\n",
       "    }\n",
       "\n",
       "    .dataframe tbody tr th {\n",
       "        vertical-align: top;\n",
       "    }\n",
       "\n",
       "    .dataframe thead th {\n",
       "        text-align: right;\n",
       "    }\n",
       "</style>\n",
       "<table border=\"1\" class=\"dataframe\">\n",
       "  <thead>\n",
       "    <tr style=\"text-align: right;\">\n",
       "      <th></th>\n",
       "      <th>age</th>\n",
       "      <th>job</th>\n",
       "      <th>marital</th>\n",
       "      <th>education</th>\n",
       "      <th>balance</th>\n",
       "      <th>housing</th>\n",
       "      <th>loan</th>\n",
       "      <th>campaign</th>\n",
       "      <th>previous</th>\n",
       "      <th>poutcome</th>\n",
       "    </tr>\n",
       "  </thead>\n",
       "  <tbody>\n",
       "    <tr>\n",
       "      <th>4043</th>\n",
       "      <td>39</td>\n",
       "      <td>services</td>\n",
       "      <td>divorced</td>\n",
       "      <td>secondary</td>\n",
       "      <td>282</td>\n",
       "      <td>yes</td>\n",
       "      <td>no</td>\n",
       "      <td>1</td>\n",
       "      <td>0</td>\n",
       "      <td>unknown</td>\n",
       "    </tr>\n",
       "    <tr>\n",
       "      <th>1458</th>\n",
       "      <td>36</td>\n",
       "      <td>management</td>\n",
       "      <td>married</td>\n",
       "      <td>tertiary</td>\n",
       "      <td>2987</td>\n",
       "      <td>yes</td>\n",
       "      <td>no</td>\n",
       "      <td>1</td>\n",
       "      <td>0</td>\n",
       "      <td>unknown</td>\n",
       "    </tr>\n",
       "    <tr>\n",
       "      <th>3655</th>\n",
       "      <td>44</td>\n",
       "      <td>management</td>\n",
       "      <td>married</td>\n",
       "      <td>tertiary</td>\n",
       "      <td>1242</td>\n",
       "      <td>yes</td>\n",
       "      <td>no</td>\n",
       "      <td>6</td>\n",
       "      <td>0</td>\n",
       "      <td>unknown</td>\n",
       "    </tr>\n",
       "    <tr>\n",
       "      <th>4413</th>\n",
       "      <td>65</td>\n",
       "      <td>retired</td>\n",
       "      <td>married</td>\n",
       "      <td>primary</td>\n",
       "      <td>493</td>\n",
       "      <td>no</td>\n",
       "      <td>no</td>\n",
       "      <td>1</td>\n",
       "      <td>1</td>\n",
       "      <td>failure</td>\n",
       "    </tr>\n",
       "    <tr>\n",
       "      <th>2154</th>\n",
       "      <td>36</td>\n",
       "      <td>blue-collar</td>\n",
       "      <td>married</td>\n",
       "      <td>secondary</td>\n",
       "      <td>63</td>\n",
       "      <td>yes</td>\n",
       "      <td>no</td>\n",
       "      <td>8</td>\n",
       "      <td>0</td>\n",
       "      <td>unknown</td>\n",
       "    </tr>\n",
       "  </tbody>\n",
       "</table>\n",
       "</div>"
      ],
      "text/plain": [
       "      age          job   marital  education  balance housing loan  campaign  \\\n",
       "4043   39     services  divorced  secondary      282     yes   no         1   \n",
       "1458   36   management   married   tertiary     2987     yes   no         1   \n",
       "3655   44   management   married   tertiary     1242     yes   no         6   \n",
       "4413   65      retired   married    primary      493      no   no         1   \n",
       "2154   36  blue-collar   married  secondary       63     yes   no         8   \n",
       "\n",
       "      previous poutcome  \n",
       "4043         0  unknown  \n",
       "1458         0  unknown  \n",
       "3655         0  unknown  \n",
       "4413         1  failure  \n",
       "2154         0  unknown  "
      ]
     },
     "execution_count": 13,
     "metadata": {},
     "output_type": "execute_result"
    }
   ],
   "source": [
    "# Memisahkan input dan output\n",
    "x_train, y_train = extractInputOutput(data_train, \"y\")\n",
    "x_test, y_test = extractInputOutput(data_test, \"y\")\n",
    "\n",
    "# Sanity check hasil splitting\n",
    "print(\"Data training:\", x_train.shape, y_train.shape)\n",
    "print(\"Data test:\", x_test.shape, y_test.shape)\n",
    "\n",
    "x_train.head()"
   ]
  },
  {
   "cell_type": "markdown",
   "id": "235a4ed3",
   "metadata": {},
   "source": [
    "## 3.5. Preprocessing Categorical Variables"
   ]
  },
  {
   "cell_type": "markdown",
   "id": "ff2c9d16",
   "metadata": {},
   "source": [
    "Data kategorikal:\n",
    "- job\n",
    "- marital\n",
    "- education\n",
    "- default\n",
    "- housing\n",
    "- loan\n",
    "- poutcome"
   ]
  },
  {
   "cell_type": "markdown",
   "id": "04d98e98",
   "metadata": {},
   "source": [
    "Data numerikal:\n",
    "- age\n",
    "- balance\n",
    "- campaign\n",
    "- pdays\n",
    "- previous"
   ]
  },
  {
   "cell_type": "code",
   "execution_count": 14,
   "id": "fb39f22c",
   "metadata": {
    "scrolled": true
   },
   "outputs": [
    {
     "data": {
      "text/html": [
       "<div>\n",
       "<style scoped>\n",
       "    .dataframe tbody tr th:only-of-type {\n",
       "        vertical-align: middle;\n",
       "    }\n",
       "\n",
       "    .dataframe tbody tr th {\n",
       "        vertical-align: top;\n",
       "    }\n",
       "\n",
       "    .dataframe thead th {\n",
       "        text-align: right;\n",
       "    }\n",
       "</style>\n",
       "<table border=\"1\" class=\"dataframe\">\n",
       "  <thead>\n",
       "    <tr style=\"text-align: right;\">\n",
       "      <th></th>\n",
       "      <th>housing_no</th>\n",
       "      <th>housing_yes</th>\n",
       "      <th>education_primary</th>\n",
       "      <th>education_secondary</th>\n",
       "      <th>education_tertiary</th>\n",
       "      <th>education_unknown</th>\n",
       "      <th>poutcome_failure</th>\n",
       "      <th>poutcome_other</th>\n",
       "      <th>poutcome_success</th>\n",
       "      <th>poutcome_unknown</th>\n",
       "      <th>...</th>\n",
       "      <th>job_entrepreneur</th>\n",
       "      <th>job_housemaid</th>\n",
       "      <th>job_management</th>\n",
       "      <th>job_retired</th>\n",
       "      <th>job_self-employed</th>\n",
       "      <th>job_services</th>\n",
       "      <th>job_student</th>\n",
       "      <th>job_technician</th>\n",
       "      <th>job_unemployed</th>\n",
       "      <th>job_unknown</th>\n",
       "    </tr>\n",
       "  </thead>\n",
       "  <tbody>\n",
       "    <tr>\n",
       "      <th>4043</th>\n",
       "      <td>0</td>\n",
       "      <td>1</td>\n",
       "      <td>0</td>\n",
       "      <td>1</td>\n",
       "      <td>0</td>\n",
       "      <td>0</td>\n",
       "      <td>0</td>\n",
       "      <td>0</td>\n",
       "      <td>0</td>\n",
       "      <td>1</td>\n",
       "      <td>...</td>\n",
       "      <td>0</td>\n",
       "      <td>0</td>\n",
       "      <td>0</td>\n",
       "      <td>0</td>\n",
       "      <td>0</td>\n",
       "      <td>1</td>\n",
       "      <td>0</td>\n",
       "      <td>0</td>\n",
       "      <td>0</td>\n",
       "      <td>0</td>\n",
       "    </tr>\n",
       "    <tr>\n",
       "      <th>1458</th>\n",
       "      <td>0</td>\n",
       "      <td>1</td>\n",
       "      <td>0</td>\n",
       "      <td>0</td>\n",
       "      <td>1</td>\n",
       "      <td>0</td>\n",
       "      <td>0</td>\n",
       "      <td>0</td>\n",
       "      <td>0</td>\n",
       "      <td>1</td>\n",
       "      <td>...</td>\n",
       "      <td>0</td>\n",
       "      <td>0</td>\n",
       "      <td>1</td>\n",
       "      <td>0</td>\n",
       "      <td>0</td>\n",
       "      <td>0</td>\n",
       "      <td>0</td>\n",
       "      <td>0</td>\n",
       "      <td>0</td>\n",
       "      <td>0</td>\n",
       "    </tr>\n",
       "    <tr>\n",
       "      <th>3655</th>\n",
       "      <td>0</td>\n",
       "      <td>1</td>\n",
       "      <td>0</td>\n",
       "      <td>0</td>\n",
       "      <td>1</td>\n",
       "      <td>0</td>\n",
       "      <td>0</td>\n",
       "      <td>0</td>\n",
       "      <td>0</td>\n",
       "      <td>1</td>\n",
       "      <td>...</td>\n",
       "      <td>0</td>\n",
       "      <td>0</td>\n",
       "      <td>1</td>\n",
       "      <td>0</td>\n",
       "      <td>0</td>\n",
       "      <td>0</td>\n",
       "      <td>0</td>\n",
       "      <td>0</td>\n",
       "      <td>0</td>\n",
       "      <td>0</td>\n",
       "    </tr>\n",
       "    <tr>\n",
       "      <th>4413</th>\n",
       "      <td>1</td>\n",
       "      <td>0</td>\n",
       "      <td>1</td>\n",
       "      <td>0</td>\n",
       "      <td>0</td>\n",
       "      <td>0</td>\n",
       "      <td>1</td>\n",
       "      <td>0</td>\n",
       "      <td>0</td>\n",
       "      <td>0</td>\n",
       "      <td>...</td>\n",
       "      <td>0</td>\n",
       "      <td>0</td>\n",
       "      <td>0</td>\n",
       "      <td>1</td>\n",
       "      <td>0</td>\n",
       "      <td>0</td>\n",
       "      <td>0</td>\n",
       "      <td>0</td>\n",
       "      <td>0</td>\n",
       "      <td>0</td>\n",
       "    </tr>\n",
       "    <tr>\n",
       "      <th>2154</th>\n",
       "      <td>0</td>\n",
       "      <td>1</td>\n",
       "      <td>0</td>\n",
       "      <td>1</td>\n",
       "      <td>0</td>\n",
       "      <td>0</td>\n",
       "      <td>0</td>\n",
       "      <td>0</td>\n",
       "      <td>0</td>\n",
       "      <td>1</td>\n",
       "      <td>...</td>\n",
       "      <td>0</td>\n",
       "      <td>0</td>\n",
       "      <td>0</td>\n",
       "      <td>0</td>\n",
       "      <td>0</td>\n",
       "      <td>0</td>\n",
       "      <td>0</td>\n",
       "      <td>0</td>\n",
       "      <td>0</td>\n",
       "      <td>0</td>\n",
       "    </tr>\n",
       "  </tbody>\n",
       "</table>\n",
       "<p>5 rows × 27 columns</p>\n",
       "</div>"
      ],
      "text/plain": [
       "      housing_no  housing_yes  education_primary  education_secondary  \\\n",
       "4043           0            1                  0                    1   \n",
       "1458           0            1                  0                    0   \n",
       "3655           0            1                  0                    0   \n",
       "4413           1            0                  1                    0   \n",
       "2154           0            1                  0                    1   \n",
       "\n",
       "      education_tertiary  education_unknown  poutcome_failure  poutcome_other  \\\n",
       "4043                   0                  0                 0               0   \n",
       "1458                   1                  0                 0               0   \n",
       "3655                   1                  0                 0               0   \n",
       "4413                   0                  0                 1               0   \n",
       "2154                   0                  0                 0               0   \n",
       "\n",
       "      poutcome_success  poutcome_unknown  ...  job_entrepreneur  \\\n",
       "4043                 0                 1  ...                 0   \n",
       "1458                 0                 1  ...                 0   \n",
       "3655                 0                 1  ...                 0   \n",
       "4413                 0                 0  ...                 0   \n",
       "2154                 0                 1  ...                 0   \n",
       "\n",
       "      job_housemaid  job_management  job_retired  job_self-employed  \\\n",
       "4043              0               0            0                  0   \n",
       "1458              0               1            0                  0   \n",
       "3655              0               1            0                  0   \n",
       "4413              0               0            1                  0   \n",
       "2154              0               0            0                  0   \n",
       "\n",
       "      job_services  job_student  job_technician  job_unemployed  job_unknown  \n",
       "4043             1            0               0               0            0  \n",
       "1458             0            0               0               0            0  \n",
       "3655             0            0               0               0            0  \n",
       "4413             0            0               0               0            0  \n",
       "2154             0            0               0               0            0  \n",
       "\n",
       "[5 rows x 27 columns]"
      ]
     },
     "execution_count": 14,
     "metadata": {},
     "output_type": "execute_result"
    }
   ],
   "source": [
    "# membuat tabel khusus data numerik\n",
    "numerical_column = [\"age\", \"balance\", \"campaign\", \"previous\"]\n",
    "x_train_numerical = x_train[numerical_column]\n",
    "\n",
    "# membuat tabel khusus data kategorikal\n",
    "x_train_column = list(x_train.columns)\n",
    "categorical_column = list(set(x_train_column).difference(set(numerical_column)))\n",
    "\n",
    "# Melakukan One-Hot Encoding untuk data kategorikal supaya menjadi data numerik\n",
    "x_train_categorical_ohe = extractCategorical(x_train, categorical_column)\n",
    "x_train_categorical_ohe.head()"
   ]
  },
  {
   "cell_type": "code",
   "execution_count": 15,
   "id": "029098dd",
   "metadata": {},
   "outputs": [
    {
     "name": "stdout",
     "output_type": "stream",
     "text": [
      "(3616, 27)\n"
     ]
    }
   ],
   "source": [
    "# menyimpan kolom OHE\n",
    "ohe_columns = x_train_categorical_ohe.columns\n",
    "\n",
    "# Sanity check\n",
    "print(x_train_categorical_ohe.shape)"
   ]
  },
  {
   "cell_type": "markdown",
   "id": "0437daff",
   "metadata": {},
   "source": [
    "## 3.6. Menggabungkan Data Numerikal dan Kategorikal"
   ]
  },
  {
   "cell_type": "code",
   "execution_count": 16,
   "id": "7cefa3f5",
   "metadata": {},
   "outputs": [
    {
     "data": {
      "text/html": [
       "<div>\n",
       "<style scoped>\n",
       "    .dataframe tbody tr th:only-of-type {\n",
       "        vertical-align: middle;\n",
       "    }\n",
       "\n",
       "    .dataframe tbody tr th {\n",
       "        vertical-align: top;\n",
       "    }\n",
       "\n",
       "    .dataframe thead th {\n",
       "        text-align: right;\n",
       "    }\n",
       "</style>\n",
       "<table border=\"1\" class=\"dataframe\">\n",
       "  <thead>\n",
       "    <tr style=\"text-align: right;\">\n",
       "      <th></th>\n",
       "      <th>age</th>\n",
       "      <th>balance</th>\n",
       "      <th>campaign</th>\n",
       "      <th>previous</th>\n",
       "      <th>housing_no</th>\n",
       "      <th>housing_yes</th>\n",
       "      <th>education_primary</th>\n",
       "      <th>education_secondary</th>\n",
       "      <th>education_tertiary</th>\n",
       "      <th>education_unknown</th>\n",
       "      <th>...</th>\n",
       "      <th>job_entrepreneur</th>\n",
       "      <th>job_housemaid</th>\n",
       "      <th>job_management</th>\n",
       "      <th>job_retired</th>\n",
       "      <th>job_self-employed</th>\n",
       "      <th>job_services</th>\n",
       "      <th>job_student</th>\n",
       "      <th>job_technician</th>\n",
       "      <th>job_unemployed</th>\n",
       "      <th>job_unknown</th>\n",
       "    </tr>\n",
       "  </thead>\n",
       "  <tbody>\n",
       "    <tr>\n",
       "      <th>4043</th>\n",
       "      <td>39</td>\n",
       "      <td>282</td>\n",
       "      <td>1</td>\n",
       "      <td>0</td>\n",
       "      <td>0</td>\n",
       "      <td>1</td>\n",
       "      <td>0</td>\n",
       "      <td>1</td>\n",
       "      <td>0</td>\n",
       "      <td>0</td>\n",
       "      <td>...</td>\n",
       "      <td>0</td>\n",
       "      <td>0</td>\n",
       "      <td>0</td>\n",
       "      <td>0</td>\n",
       "      <td>0</td>\n",
       "      <td>1</td>\n",
       "      <td>0</td>\n",
       "      <td>0</td>\n",
       "      <td>0</td>\n",
       "      <td>0</td>\n",
       "    </tr>\n",
       "    <tr>\n",
       "      <th>1458</th>\n",
       "      <td>36</td>\n",
       "      <td>2987</td>\n",
       "      <td>1</td>\n",
       "      <td>0</td>\n",
       "      <td>0</td>\n",
       "      <td>1</td>\n",
       "      <td>0</td>\n",
       "      <td>0</td>\n",
       "      <td>1</td>\n",
       "      <td>0</td>\n",
       "      <td>...</td>\n",
       "      <td>0</td>\n",
       "      <td>0</td>\n",
       "      <td>1</td>\n",
       "      <td>0</td>\n",
       "      <td>0</td>\n",
       "      <td>0</td>\n",
       "      <td>0</td>\n",
       "      <td>0</td>\n",
       "      <td>0</td>\n",
       "      <td>0</td>\n",
       "    </tr>\n",
       "    <tr>\n",
       "      <th>3655</th>\n",
       "      <td>44</td>\n",
       "      <td>1242</td>\n",
       "      <td>6</td>\n",
       "      <td>0</td>\n",
       "      <td>0</td>\n",
       "      <td>1</td>\n",
       "      <td>0</td>\n",
       "      <td>0</td>\n",
       "      <td>1</td>\n",
       "      <td>0</td>\n",
       "      <td>...</td>\n",
       "      <td>0</td>\n",
       "      <td>0</td>\n",
       "      <td>1</td>\n",
       "      <td>0</td>\n",
       "      <td>0</td>\n",
       "      <td>0</td>\n",
       "      <td>0</td>\n",
       "      <td>0</td>\n",
       "      <td>0</td>\n",
       "      <td>0</td>\n",
       "    </tr>\n",
       "    <tr>\n",
       "      <th>4413</th>\n",
       "      <td>65</td>\n",
       "      <td>493</td>\n",
       "      <td>1</td>\n",
       "      <td>1</td>\n",
       "      <td>1</td>\n",
       "      <td>0</td>\n",
       "      <td>1</td>\n",
       "      <td>0</td>\n",
       "      <td>0</td>\n",
       "      <td>0</td>\n",
       "      <td>...</td>\n",
       "      <td>0</td>\n",
       "      <td>0</td>\n",
       "      <td>0</td>\n",
       "      <td>1</td>\n",
       "      <td>0</td>\n",
       "      <td>0</td>\n",
       "      <td>0</td>\n",
       "      <td>0</td>\n",
       "      <td>0</td>\n",
       "      <td>0</td>\n",
       "    </tr>\n",
       "    <tr>\n",
       "      <th>2154</th>\n",
       "      <td>36</td>\n",
       "      <td>63</td>\n",
       "      <td>8</td>\n",
       "      <td>0</td>\n",
       "      <td>0</td>\n",
       "      <td>1</td>\n",
       "      <td>0</td>\n",
       "      <td>1</td>\n",
       "      <td>0</td>\n",
       "      <td>0</td>\n",
       "      <td>...</td>\n",
       "      <td>0</td>\n",
       "      <td>0</td>\n",
       "      <td>0</td>\n",
       "      <td>0</td>\n",
       "      <td>0</td>\n",
       "      <td>0</td>\n",
       "      <td>0</td>\n",
       "      <td>0</td>\n",
       "      <td>0</td>\n",
       "      <td>0</td>\n",
       "    </tr>\n",
       "  </tbody>\n",
       "</table>\n",
       "<p>5 rows × 31 columns</p>\n",
       "</div>"
      ],
      "text/plain": [
       "      age  balance  campaign  previous  housing_no  housing_yes  \\\n",
       "4043   39      282         1         0           0            1   \n",
       "1458   36     2987         1         0           0            1   \n",
       "3655   44     1242         6         0           0            1   \n",
       "4413   65      493         1         1           1            0   \n",
       "2154   36       63         8         0           0            1   \n",
       "\n",
       "      education_primary  education_secondary  education_tertiary  \\\n",
       "4043                  0                    1                   0   \n",
       "1458                  0                    0                   1   \n",
       "3655                  0                    0                   1   \n",
       "4413                  1                    0                   0   \n",
       "2154                  0                    1                   0   \n",
       "\n",
       "      education_unknown  ...  job_entrepreneur  job_housemaid  job_management  \\\n",
       "4043                  0  ...                 0              0               0   \n",
       "1458                  0  ...                 0              0               1   \n",
       "3655                  0  ...                 0              0               1   \n",
       "4413                  0  ...                 0              0               0   \n",
       "2154                  0  ...                 0              0               0   \n",
       "\n",
       "      job_retired  job_self-employed  job_services  job_student  \\\n",
       "4043            0                  0             1            0   \n",
       "1458            0                  0             0            0   \n",
       "3655            0                  0             0            0   \n",
       "4413            1                  0             0            0   \n",
       "2154            0                  0             0            0   \n",
       "\n",
       "      job_technician  job_unemployed  job_unknown  \n",
       "4043               0               0            0  \n",
       "1458               0               0            0  \n",
       "3655               0               0            0  \n",
       "4413               0               0            0  \n",
       "2154               0               0            0  \n",
       "\n",
       "[5 rows x 31 columns]"
      ]
     },
     "execution_count": 16,
     "metadata": {},
     "output_type": "execute_result"
    }
   ],
   "source": [
    "x_train_concat = pd.concat([x_train_numerical, x_train_categorical_ohe], axis = 1)\n",
    "x_train_concat.head()"
   ]
  },
  {
   "cell_type": "code",
   "execution_count": 17,
   "id": "0c2ab1e7",
   "metadata": {},
   "outputs": [
    {
     "data": {
      "text/plain": [
       "age                    0\n",
       "balance                0\n",
       "campaign               0\n",
       "previous               0\n",
       "housing_no             0\n",
       "housing_yes            0\n",
       "education_primary      0\n",
       "education_secondary    0\n",
       "education_tertiary     0\n",
       "education_unknown      0\n",
       "poutcome_failure       0\n",
       "poutcome_other         0\n",
       "poutcome_success       0\n",
       "poutcome_unknown       0\n",
       "loan_no                0\n",
       "loan_yes               0\n",
       "marital_divorced       0\n",
       "marital_married        0\n",
       "marital_single         0\n",
       "job_admin.             0\n",
       "job_blue-collar        0\n",
       "job_entrepreneur       0\n",
       "job_housemaid          0\n",
       "job_management         0\n",
       "job_retired            0\n",
       "job_self-employed      0\n",
       "job_services           0\n",
       "job_student            0\n",
       "job_technician         0\n",
       "job_unemployed         0\n",
       "job_unknown            0\n",
       "dtype: int64"
      ]
     },
     "execution_count": 17,
     "metadata": {},
     "output_type": "execute_result"
    }
   ],
   "source": [
    "# mengecek missing value\n",
    "x_train_concat.isna().sum()"
   ]
  },
  {
   "cell_type": "markdown",
   "id": "7bf75f9b",
   "metadata": {},
   "source": [
    "Tidak ada missing value."
   ]
  },
  {
   "cell_type": "markdown",
   "id": "d591f0f3",
   "metadata": {},
   "source": [
    "## 3.7. Standardizing Variables"
   ]
  },
  {
   "cell_type": "code",
   "execution_count": 18,
   "id": "34c22f1c",
   "metadata": {
    "scrolled": false
   },
   "outputs": [
    {
     "data": {
      "text/html": [
       "<div>\n",
       "<style scoped>\n",
       "    .dataframe tbody tr th:only-of-type {\n",
       "        vertical-align: middle;\n",
       "    }\n",
       "\n",
       "    .dataframe tbody tr th {\n",
       "        vertical-align: top;\n",
       "    }\n",
       "\n",
       "    .dataframe thead th {\n",
       "        text-align: right;\n",
       "    }\n",
       "</style>\n",
       "<table border=\"1\" class=\"dataframe\">\n",
       "  <thead>\n",
       "    <tr style=\"text-align: right;\">\n",
       "      <th></th>\n",
       "      <th>age</th>\n",
       "      <th>balance</th>\n",
       "      <th>campaign</th>\n",
       "      <th>previous</th>\n",
       "      <th>housing_no</th>\n",
       "      <th>housing_yes</th>\n",
       "      <th>education_primary</th>\n",
       "      <th>education_secondary</th>\n",
       "      <th>education_tertiary</th>\n",
       "      <th>education_unknown</th>\n",
       "      <th>...</th>\n",
       "      <th>job_entrepreneur</th>\n",
       "      <th>job_housemaid</th>\n",
       "      <th>job_management</th>\n",
       "      <th>job_retired</th>\n",
       "      <th>job_self-employed</th>\n",
       "      <th>job_services</th>\n",
       "      <th>job_student</th>\n",
       "      <th>job_technician</th>\n",
       "      <th>job_unemployed</th>\n",
       "      <th>job_unknown</th>\n",
       "    </tr>\n",
       "  </thead>\n",
       "  <tbody>\n",
       "    <tr>\n",
       "      <th>4043</th>\n",
       "      <td>-0.209847</td>\n",
       "      <td>-0.376825</td>\n",
       "      <td>-0.581556</td>\n",
       "      <td>-0.307870</td>\n",
       "      <td>-0.869103</td>\n",
       "      <td>0.869103</td>\n",
       "      <td>-0.426715</td>\n",
       "      <td>0.990641</td>\n",
       "      <td>-0.656896</td>\n",
       "      <td>-0.203653</td>\n",
       "      <td>...</td>\n",
       "      <td>-0.193111</td>\n",
       "      <td>-0.157012</td>\n",
       "      <td>-0.528722</td>\n",
       "      <td>-0.230881</td>\n",
       "      <td>-0.201434</td>\n",
       "      <td>3.155563</td>\n",
       "      <td>-0.128791</td>\n",
       "      <td>-0.45225</td>\n",
       "      <td>-0.172084</td>\n",
       "      <td>-0.091465</td>\n",
       "    </tr>\n",
       "    <tr>\n",
       "      <th>1458</th>\n",
       "      <td>-0.498770</td>\n",
       "      <td>0.542726</td>\n",
       "      <td>-0.581556</td>\n",
       "      <td>-0.307870</td>\n",
       "      <td>-0.869103</td>\n",
       "      <td>0.869103</td>\n",
       "      <td>-0.426715</td>\n",
       "      <td>-1.009447</td>\n",
       "      <td>1.522311</td>\n",
       "      <td>-0.203653</td>\n",
       "      <td>...</td>\n",
       "      <td>-0.193111</td>\n",
       "      <td>-0.157012</td>\n",
       "      <td>1.891353</td>\n",
       "      <td>-0.230881</td>\n",
       "      <td>-0.201434</td>\n",
       "      <td>-0.316901</td>\n",
       "      <td>-0.128791</td>\n",
       "      <td>-0.45225</td>\n",
       "      <td>-0.172084</td>\n",
       "      <td>-0.091465</td>\n",
       "    </tr>\n",
       "    <tr>\n",
       "      <th>3655</th>\n",
       "      <td>0.271691</td>\n",
       "      <td>-0.050478</td>\n",
       "      <td>1.061853</td>\n",
       "      <td>-0.307870</td>\n",
       "      <td>-0.869103</td>\n",
       "      <td>0.869103</td>\n",
       "      <td>-0.426715</td>\n",
       "      <td>-1.009447</td>\n",
       "      <td>1.522311</td>\n",
       "      <td>-0.203653</td>\n",
       "      <td>...</td>\n",
       "      <td>-0.193111</td>\n",
       "      <td>-0.157012</td>\n",
       "      <td>1.891353</td>\n",
       "      <td>-0.230881</td>\n",
       "      <td>-0.201434</td>\n",
       "      <td>-0.316901</td>\n",
       "      <td>-0.128791</td>\n",
       "      <td>-0.45225</td>\n",
       "      <td>-0.172084</td>\n",
       "      <td>-0.091465</td>\n",
       "    </tr>\n",
       "    <tr>\n",
       "      <th>4413</th>\n",
       "      <td>2.294149</td>\n",
       "      <td>-0.305097</td>\n",
       "      <td>-0.581556</td>\n",
       "      <td>0.265088</td>\n",
       "      <td>1.150612</td>\n",
       "      <td>-1.150612</td>\n",
       "      <td>2.343485</td>\n",
       "      <td>-1.009447</td>\n",
       "      <td>-0.656896</td>\n",
       "      <td>-0.203653</td>\n",
       "      <td>...</td>\n",
       "      <td>-0.193111</td>\n",
       "      <td>-0.157012</td>\n",
       "      <td>-0.528722</td>\n",
       "      <td>4.331231</td>\n",
       "      <td>-0.201434</td>\n",
       "      <td>-0.316901</td>\n",
       "      <td>-0.128791</td>\n",
       "      <td>-0.45225</td>\n",
       "      <td>-0.172084</td>\n",
       "      <td>-0.091465</td>\n",
       "    </tr>\n",
       "    <tr>\n",
       "      <th>2154</th>\n",
       "      <td>-0.498770</td>\n",
       "      <td>-0.451273</td>\n",
       "      <td>1.719217</td>\n",
       "      <td>-0.307870</td>\n",
       "      <td>-0.869103</td>\n",
       "      <td>0.869103</td>\n",
       "      <td>-0.426715</td>\n",
       "      <td>0.990641</td>\n",
       "      <td>-0.656896</td>\n",
       "      <td>-0.203653</td>\n",
       "      <td>...</td>\n",
       "      <td>-0.193111</td>\n",
       "      <td>-0.157012</td>\n",
       "      <td>-0.528722</td>\n",
       "      <td>-0.230881</td>\n",
       "      <td>-0.201434</td>\n",
       "      <td>-0.316901</td>\n",
       "      <td>-0.128791</td>\n",
       "      <td>-0.45225</td>\n",
       "      <td>-0.172084</td>\n",
       "      <td>-0.091465</td>\n",
       "    </tr>\n",
       "  </tbody>\n",
       "</table>\n",
       "<p>5 rows × 31 columns</p>\n",
       "</div>"
      ],
      "text/plain": [
       "           age   balance  campaign  previous  housing_no  housing_yes  \\\n",
       "4043 -0.209847 -0.376825 -0.581556 -0.307870   -0.869103     0.869103   \n",
       "1458 -0.498770  0.542726 -0.581556 -0.307870   -0.869103     0.869103   \n",
       "3655  0.271691 -0.050478  1.061853 -0.307870   -0.869103     0.869103   \n",
       "4413  2.294149 -0.305097 -0.581556  0.265088    1.150612    -1.150612   \n",
       "2154 -0.498770 -0.451273  1.719217 -0.307870   -0.869103     0.869103   \n",
       "\n",
       "      education_primary  education_secondary  education_tertiary  \\\n",
       "4043          -0.426715             0.990641           -0.656896   \n",
       "1458          -0.426715            -1.009447            1.522311   \n",
       "3655          -0.426715            -1.009447            1.522311   \n",
       "4413           2.343485            -1.009447           -0.656896   \n",
       "2154          -0.426715             0.990641           -0.656896   \n",
       "\n",
       "      education_unknown  ...  job_entrepreneur  job_housemaid  job_management  \\\n",
       "4043          -0.203653  ...         -0.193111      -0.157012       -0.528722   \n",
       "1458          -0.203653  ...         -0.193111      -0.157012        1.891353   \n",
       "3655          -0.203653  ...         -0.193111      -0.157012        1.891353   \n",
       "4413          -0.203653  ...         -0.193111      -0.157012       -0.528722   \n",
       "2154          -0.203653  ...         -0.193111      -0.157012       -0.528722   \n",
       "\n",
       "      job_retired  job_self-employed  job_services  job_student  \\\n",
       "4043    -0.230881          -0.201434      3.155563    -0.128791   \n",
       "1458    -0.230881          -0.201434     -0.316901    -0.128791   \n",
       "3655    -0.230881          -0.201434     -0.316901    -0.128791   \n",
       "4413     4.331231          -0.201434     -0.316901    -0.128791   \n",
       "2154    -0.230881          -0.201434     -0.316901    -0.128791   \n",
       "\n",
       "      job_technician  job_unemployed  job_unknown  \n",
       "4043        -0.45225       -0.172084    -0.091465  \n",
       "1458        -0.45225       -0.172084    -0.091465  \n",
       "3655        -0.45225       -0.172084    -0.091465  \n",
       "4413        -0.45225       -0.172084    -0.091465  \n",
       "2154        -0.45225       -0.172084    -0.091465  \n",
       "\n",
       "[5 rows x 31 columns]"
      ]
     },
     "execution_count": 18,
     "metadata": {},
     "output_type": "execute_result"
    }
   ],
   "source": [
    "x_train_clean, standardizer = standardizerData(data = x_train_concat)\n",
    "x_train_clean.head()"
   ]
  },
  {
   "cell_type": "markdown",
   "id": "40d37764",
   "metadata": {},
   "source": [
    "# 4. Training Machine Learning"
   ]
  },
  {
   "cell_type": "markdown",
   "id": "376b8b2a",
   "metadata": {},
   "source": [
    "## 4.1. Baseline"
   ]
  },
  {
   "cell_type": "markdown",
   "id": "6f266db4",
   "metadata": {},
   "source": [
    "Baseline diambil dari proporsi kelas target yang terbesar.\n",
    "Dengan kata lain, menebak hasil output marketing response dengan nilai \"no\" semua tanpa modeling."
   ]
  },
  {
   "cell_type": "code",
   "execution_count": 19,
   "id": "34c46ebe",
   "metadata": {},
   "outputs": [
    {
     "data": {
      "text/plain": [
       "0    0.887168\n",
       "1    0.112832\n",
       "Name: y, dtype: float64"
      ]
     },
     "execution_count": 19,
     "metadata": {},
     "output_type": "execute_result"
    }
   ],
   "source": [
    "y_train.value_counts(normalize = True)"
   ]
  },
  {
   "cell_type": "markdown",
   "id": "7cc355ab",
   "metadata": {},
   "source": [
    "Maka, baseline data training adalah 88%."
   ]
  },
  {
   "cell_type": "code",
   "execution_count": 20,
   "id": "d821305f",
   "metadata": {
    "scrolled": true
   },
   "outputs": [
    {
     "data": {
      "text/plain": [
       "0    0.875138\n",
       "1    0.124862\n",
       "Name: y, dtype: float64"
      ]
     },
     "execution_count": 20,
     "metadata": {},
     "output_type": "execute_result"
    }
   ],
   "source": [
    "y_test.value_counts(normalize = True)"
   ]
  },
  {
   "cell_type": "markdown",
   "id": "ab045305",
   "metadata": {},
   "source": [
    "Maka, baseline data test adalah 87%. "
   ]
  },
  {
   "cell_type": "markdown",
   "id": "f5542a17",
   "metadata": {},
   "source": [
    "## 4.2. Fitting Model"
   ]
  },
  {
   "cell_type": "markdown",
   "id": "79ef8870",
   "metadata": {},
   "source": [
    "Misal kita gunakan 3 model ML untuk klasifikasi:\n",
    "- K-nearest neighbor (K-NN)\n",
    "- Logistic Regression\n",
    "- Random Forest"
   ]
  },
  {
   "cell_type": "markdown",
   "id": "8a305306",
   "metadata": {},
   "source": [
    "### a. Model K-Nearest Neighbor"
   ]
  },
  {
   "cell_type": "code",
   "execution_count": 21,
   "id": "6598e333",
   "metadata": {},
   "outputs": [
    {
     "data": {
      "text/plain": [
       "KNeighborsClassifier(n_neighbors=3)"
      ]
     },
     "execution_count": 21,
     "metadata": {},
     "output_type": "execute_result"
    }
   ],
   "source": [
    "# Model K-Nearest Neighbor\n",
    "from sklearn.neighbors import KNeighborsClassifier\n",
    "\n",
    "knn = KNeighborsClassifier(n_neighbors = 3)\n",
    "knn.fit(x_train_clean, y_train)"
   ]
  },
  {
   "cell_type": "markdown",
   "id": "1a9bd102",
   "metadata": {},
   "source": [
    "### b. Model Logistic Regression"
   ]
  },
  {
   "cell_type": "code",
   "execution_count": 22,
   "id": "d20d347a",
   "metadata": {
    "scrolled": false
   },
   "outputs": [
    {
     "data": {
      "text/plain": [
       "LogisticRegression(class_weight='balanced', random_state=123)"
      ]
     },
     "execution_count": 22,
     "metadata": {},
     "output_type": "execute_result"
    }
   ],
   "source": [
    "# Model Logistic Regression\n",
    "from sklearn.linear_model import LogisticRegression\n",
    "\n",
    "logreg = LogisticRegression(random_state = 123, class_weight='balanced')\n",
    "logreg.fit(x_train_clean, y_train)"
   ]
  },
  {
   "cell_type": "markdown",
   "id": "8ae0ea18",
   "metadata": {},
   "source": [
    "### c. Model Random Forest"
   ]
  },
  {
   "cell_type": "code",
   "execution_count": 23,
   "id": "35bc9ed8",
   "metadata": {},
   "outputs": [
    {
     "data": {
      "text/plain": [
       "RandomForestClassifier(n_estimators=30, random_state=1234)"
      ]
     },
     "execution_count": 23,
     "metadata": {},
     "output_type": "execute_result"
    }
   ],
   "source": [
    "# Model Random Forest\n",
    "from sklearn.ensemble import RandomForestClassifier\n",
    "\n",
    "random_forest = RandomForestClassifier(random_state = 1234, n_estimators = 30)\n",
    "random_forest.fit(x_train_clean, y_train)"
   ]
  },
  {
   "cell_type": "markdown",
   "id": "e5a1c0f6",
   "metadata": {},
   "source": [
    "## 4.3. Menyiapkan Data Test"
   ]
  },
  {
   "cell_type": "code",
   "execution_count": 24,
   "id": "2f96746f",
   "metadata": {},
   "outputs": [
    {
     "data": {
      "text/html": [
       "<div>\n",
       "<style scoped>\n",
       "    .dataframe tbody tr th:only-of-type {\n",
       "        vertical-align: middle;\n",
       "    }\n",
       "\n",
       "    .dataframe tbody tr th {\n",
       "        vertical-align: top;\n",
       "    }\n",
       "\n",
       "    .dataframe thead th {\n",
       "        text-align: right;\n",
       "    }\n",
       "</style>\n",
       "<table border=\"1\" class=\"dataframe\">\n",
       "  <thead>\n",
       "    <tr style=\"text-align: right;\">\n",
       "      <th></th>\n",
       "      <th>age</th>\n",
       "      <th>balance</th>\n",
       "      <th>campaign</th>\n",
       "      <th>previous</th>\n",
       "      <th>housing_no</th>\n",
       "      <th>housing_yes</th>\n",
       "      <th>education_primary</th>\n",
       "      <th>education_secondary</th>\n",
       "      <th>education_tertiary</th>\n",
       "      <th>education_unknown</th>\n",
       "      <th>...</th>\n",
       "      <th>job_entrepreneur</th>\n",
       "      <th>job_housemaid</th>\n",
       "      <th>job_management</th>\n",
       "      <th>job_retired</th>\n",
       "      <th>job_self-employed</th>\n",
       "      <th>job_services</th>\n",
       "      <th>job_student</th>\n",
       "      <th>job_technician</th>\n",
       "      <th>job_unemployed</th>\n",
       "      <th>job_unknown</th>\n",
       "    </tr>\n",
       "  </thead>\n",
       "  <tbody>\n",
       "    <tr>\n",
       "      <th>0</th>\n",
       "      <td>0.849536</td>\n",
       "      <td>-0.472690</td>\n",
       "      <td>-0.252874</td>\n",
       "      <td>-0.307870</td>\n",
       "      <td>1.150612</td>\n",
       "      <td>-1.150612</td>\n",
       "      <td>2.343485</td>\n",
       "      <td>-1.009447</td>\n",
       "      <td>-0.656896</td>\n",
       "      <td>-0.203653</td>\n",
       "      <td>...</td>\n",
       "      <td>-0.193111</td>\n",
       "      <td>6.368926</td>\n",
       "      <td>-0.528722</td>\n",
       "      <td>-0.230881</td>\n",
       "      <td>-0.201434</td>\n",
       "      <td>-0.316901</td>\n",
       "      <td>-0.128791</td>\n",
       "      <td>-0.452250</td>\n",
       "      <td>-0.172084</td>\n",
       "      <td>-0.091465</td>\n",
       "    </tr>\n",
       "    <tr>\n",
       "      <th>1</th>\n",
       "      <td>1.716304</td>\n",
       "      <td>0.114396</td>\n",
       "      <td>0.404490</td>\n",
       "      <td>0.838046</td>\n",
       "      <td>1.150612</td>\n",
       "      <td>-1.150612</td>\n",
       "      <td>2.343485</td>\n",
       "      <td>-1.009447</td>\n",
       "      <td>-0.656896</td>\n",
       "      <td>-0.203653</td>\n",
       "      <td>...</td>\n",
       "      <td>-0.193111</td>\n",
       "      <td>-0.157012</td>\n",
       "      <td>1.891353</td>\n",
       "      <td>-0.230881</td>\n",
       "      <td>-0.201434</td>\n",
       "      <td>-0.316901</td>\n",
       "      <td>-0.128791</td>\n",
       "      <td>-0.452250</td>\n",
       "      <td>-0.172084</td>\n",
       "      <td>-0.091465</td>\n",
       "    </tr>\n",
       "    <tr>\n",
       "      <th>2</th>\n",
       "      <td>1.619996</td>\n",
       "      <td>-0.367647</td>\n",
       "      <td>-0.252874</td>\n",
       "      <td>-0.307870</td>\n",
       "      <td>1.150612</td>\n",
       "      <td>-1.150612</td>\n",
       "      <td>2.343485</td>\n",
       "      <td>-1.009447</td>\n",
       "      <td>-0.656896</td>\n",
       "      <td>-0.203653</td>\n",
       "      <td>...</td>\n",
       "      <td>-0.193111</td>\n",
       "      <td>-0.157012</td>\n",
       "      <td>-0.528722</td>\n",
       "      <td>-0.230881</td>\n",
       "      <td>-0.201434</td>\n",
       "      <td>-0.316901</td>\n",
       "      <td>-0.128791</td>\n",
       "      <td>-0.452250</td>\n",
       "      <td>-0.172084</td>\n",
       "      <td>-0.091465</td>\n",
       "    </tr>\n",
       "    <tr>\n",
       "      <th>3</th>\n",
       "      <td>-0.498770</td>\n",
       "      <td>-0.542718</td>\n",
       "      <td>-0.252874</td>\n",
       "      <td>-0.307870</td>\n",
       "      <td>-0.869103</td>\n",
       "      <td>0.869103</td>\n",
       "      <td>-0.426715</td>\n",
       "      <td>0.990641</td>\n",
       "      <td>-0.656896</td>\n",
       "      <td>-0.203653</td>\n",
       "      <td>...</td>\n",
       "      <td>-0.193111</td>\n",
       "      <td>-0.157012</td>\n",
       "      <td>-0.528722</td>\n",
       "      <td>-0.230881</td>\n",
       "      <td>-0.201434</td>\n",
       "      <td>-0.316901</td>\n",
       "      <td>-0.128791</td>\n",
       "      <td>-0.452250</td>\n",
       "      <td>-0.172084</td>\n",
       "      <td>-0.091465</td>\n",
       "    </tr>\n",
       "    <tr>\n",
       "      <th>4</th>\n",
       "      <td>1.138458</td>\n",
       "      <td>1.591457</td>\n",
       "      <td>0.404490</td>\n",
       "      <td>-0.307870</td>\n",
       "      <td>1.150612</td>\n",
       "      <td>-1.150612</td>\n",
       "      <td>-0.426715</td>\n",
       "      <td>-1.009447</td>\n",
       "      <td>1.522311</td>\n",
       "      <td>-0.203653</td>\n",
       "      <td>...</td>\n",
       "      <td>-0.193111</td>\n",
       "      <td>-0.157012</td>\n",
       "      <td>-0.528722</td>\n",
       "      <td>-0.230881</td>\n",
       "      <td>-0.201434</td>\n",
       "      <td>-0.316901</td>\n",
       "      <td>-0.128791</td>\n",
       "      <td>2.211165</td>\n",
       "      <td>-0.172084</td>\n",
       "      <td>-0.091465</td>\n",
       "    </tr>\n",
       "  </tbody>\n",
       "</table>\n",
       "<p>5 rows × 31 columns</p>\n",
       "</div>"
      ],
      "text/plain": [
       "        age   balance  campaign  previous  housing_no  housing_yes  \\\n",
       "0  0.849536 -0.472690 -0.252874 -0.307870    1.150612    -1.150612   \n",
       "1  1.716304  0.114396  0.404490  0.838046    1.150612    -1.150612   \n",
       "2  1.619996 -0.367647 -0.252874 -0.307870    1.150612    -1.150612   \n",
       "3 -0.498770 -0.542718 -0.252874 -0.307870   -0.869103     0.869103   \n",
       "4  1.138458  1.591457  0.404490 -0.307870    1.150612    -1.150612   \n",
       "\n",
       "   education_primary  education_secondary  education_tertiary  \\\n",
       "0           2.343485            -1.009447           -0.656896   \n",
       "1           2.343485            -1.009447           -0.656896   \n",
       "2           2.343485            -1.009447           -0.656896   \n",
       "3          -0.426715             0.990641           -0.656896   \n",
       "4          -0.426715            -1.009447            1.522311   \n",
       "\n",
       "   education_unknown  ...  job_entrepreneur  job_housemaid  job_management  \\\n",
       "0          -0.203653  ...         -0.193111       6.368926       -0.528722   \n",
       "1          -0.203653  ...         -0.193111      -0.157012        1.891353   \n",
       "2          -0.203653  ...         -0.193111      -0.157012       -0.528722   \n",
       "3          -0.203653  ...         -0.193111      -0.157012       -0.528722   \n",
       "4          -0.203653  ...         -0.193111      -0.157012       -0.528722   \n",
       "\n",
       "   job_retired  job_self-employed  job_services  job_student  job_technician  \\\n",
       "0    -0.230881          -0.201434     -0.316901    -0.128791       -0.452250   \n",
       "1    -0.230881          -0.201434     -0.316901    -0.128791       -0.452250   \n",
       "2    -0.230881          -0.201434     -0.316901    -0.128791       -0.452250   \n",
       "3    -0.230881          -0.201434     -0.316901    -0.128791       -0.452250   \n",
       "4    -0.230881          -0.201434     -0.316901    -0.128791        2.211165   \n",
       "\n",
       "   job_unemployed  job_unknown  \n",
       "0       -0.172084    -0.091465  \n",
       "1       -0.172084    -0.091465  \n",
       "2       -0.172084    -0.091465  \n",
       "3       -0.172084    -0.091465  \n",
       "4       -0.172084    -0.091465  \n",
       "\n",
       "[5 rows x 31 columns]"
      ]
     },
     "execution_count": 24,
     "metadata": {},
     "output_type": "execute_result"
    }
   ],
   "source": [
    "x_test = extractData(data = x_test,\n",
    "                     numerical_column = numerical_column, \n",
    "                     categorical_column = categorical_column, \n",
    "                     ohe_column = ohe_columns,\n",
    "                     standardizer = standardizer)\n",
    "\n",
    "x_test.head()"
   ]
  },
  {
   "cell_type": "markdown",
   "id": "8c2d9abb",
   "metadata": {},
   "source": [
    "## 4.4. Evaluasi Model di Data Training dan Data Test"
   ]
  },
  {
   "cell_type": "markdown",
   "id": "d7d6cdd6",
   "metadata": {},
   "source": [
    "### a. Evaluasi Model K-Nearest Neighbor"
   ]
  },
  {
   "cell_type": "code",
   "execution_count": 25,
   "id": "8687f217",
   "metadata": {},
   "outputs": [
    {
     "name": "stdout",
     "output_type": "stream",
     "text": [
      "Akurasi KNN di Data Training:\n"
     ]
    },
    {
     "data": {
      "image/png": "[encoded data removed]",
      "text/plain": [
       "<Figure size 432x288 with 2 Axes>"
      ]
     },
     "metadata": {
      "needs_background": "light"
     },
     "output_type": "display_data"
    },
    {
     "name": "stdout",
     "output_type": "stream",
     "text": [
      "Accuracy: 0.91\n",
      "Precision: 0.77\n",
      "Recall: 0.33\n",
      "F1 score: 0.46\n",
      "\n",
      "Akurasi KNN di Data Test:\n"
     ]
    },
    {
     "data": {
      "image/png": "[encoded data removed]",
      "text/plain": [
       "<Figure size 432x288 with 2 Axes>"
      ]
     },
     "metadata": {
      "needs_background": "light"
     },
     "output_type": "display_data"
    },
    {
     "name": "stdout",
     "output_type": "stream",
     "text": [
      "Accuracy: 0.87\n",
      "Precision: 0.49\n",
      "Recall: 0.19\n",
      "F1 score: 0.28\n"
     ]
    }
   ],
   "source": [
    "# Prediksi KNN di data train\n",
    "y_train_pred_knn = pd.DataFrame(knn.predict(x_train_clean))\n",
    "\n",
    "# Prediksi KNN di data test\n",
    "y_test_pred_knn = pd.DataFrame(knn.predict(x_test))\n",
    "\n",
    "# Cek akurasi\n",
    "print(\"Akurasi KNN di Data Training:\")\n",
    "knn_train = Model(y_train_pred_knn)\n",
    "knn_train.checkAccuracy(y_train)\n",
    "print(\"\")\n",
    "print(\"Akurasi KNN di Data Test:\")\n",
    "knn_test = Model(y_test_pred_knn)\n",
    "knn_test.checkAccuracy(y_test)"
   ]
  },
  {
   "cell_type": "code",
   "execution_count": 26,
   "id": "b3d19a78",
   "metadata": {},
   "outputs": [
    {
     "data": {
      "image/png": "[encoded data removed]",
      "text/plain": [
       "<Figure size 432x288 with 1 Axes>"
      ]
     },
     "metadata": {
      "needs_background": "light"
     },
     "output_type": "display_data"
    }
   ],
   "source": [
    "knn_train.plotROC(y_train)"
   ]
  },
  {
   "cell_type": "code",
   "execution_count": 27,
   "id": "b9c24c50",
   "metadata": {
    "scrolled": true
   },
   "outputs": [
    {
     "data": {
      "image/png": "[encoded data removed]",
      "text/plain": [
       "<Figure size 432x288 with 1 Axes>"
      ]
     },
     "metadata": {
      "needs_background": "light"
     },
     "output_type": "display_data"
    }
   ],
   "source": [
    "knn_test.plotROC(y_test)"
   ]
  },
  {
   "cell_type": "markdown",
   "id": "f7d1d6ab",
   "metadata": {},
   "source": [
    "### b. Evaluasi Model Logistic Regression"
   ]
  },
  {
   "cell_type": "code",
   "execution_count": 28,
   "id": "a003f90a",
   "metadata": {
    "scrolled": false
   },
   "outputs": [
    {
     "name": "stdout",
     "output_type": "stream",
     "text": [
      "Akurasi LogReg di Data Training:\n"
     ]
    },
    {
     "data": {
      "image/png": "[encoded data removed]",
      "text/plain": [
       "<Figure size 432x288 with 2 Axes>"
      ]
     },
     "metadata": {
      "needs_background": "light"
     },
     "output_type": "display_data"
    },
    {
     "name": "stdout",
     "output_type": "stream",
     "text": [
      "Accuracy: 0.7\n",
      "Precision: 0.2\n",
      "Recall: 0.58\n",
      "F1 score: 0.3\n",
      "\n",
      "Akurasi LogReg di Data Test:\n"
     ]
    },
    {
     "data": {
      "image/png": "[encoded data removed]",
      "text/plain": [
       "<Figure size 432x288 with 2 Axes>"
      ]
     },
     "metadata": {
      "needs_background": "light"
     },
     "output_type": "display_data"
    },
    {
     "name": "stdout",
     "output_type": "stream",
     "text": [
      "Accuracy: 0.7\n",
      "Precision: 0.23\n",
      "Recall: 0.62\n",
      "F1 score: 0.34\n"
     ]
    }
   ],
   "source": [
    "# Prediksi LogReg di data training\n",
    "y_train_pred_logreg = pd.DataFrame(logreg.predict(x_train_clean))\n",
    "\n",
    "# Prediksi LogReg di data test\n",
    "y_test_pred_logreg = pd.DataFrame(logreg.predict(x_test))\n",
    "\n",
    "# Cek akurasi\n",
    "print(\"Akurasi LogReg di Data Training:\")\n",
    "logreg_train = Model(y_train_pred_logreg)\n",
    "logreg_train.checkAccuracy(y_train)\n",
    "\n",
    "print(\"\")\n",
    "print(\"Akurasi LogReg di Data Test:\")\n",
    "logreg_test = Model(y_test_pred_logreg)\n",
    "logreg_test.checkAccuracy(y_test)"
   ]
  },
  {
   "cell_type": "code",
   "execution_count": 29,
   "id": "8b2953ce",
   "metadata": {
    "scrolled": true
   },
   "outputs": [
    {
     "data": {
      "image/png": "[encoded data removed]",
      "text/plain": [
       "<Figure size 432x288 with 1 Axes>"
      ]
     },
     "metadata": {
      "needs_background": "light"
     },
     "output_type": "display_data"
    }
   ],
   "source": [
    "logreg_train.plotROC(y_train)"
   ]
  },
  {
   "cell_type": "code",
   "execution_count": 30,
   "id": "27325533",
   "metadata": {},
   "outputs": [
    {
     "data": {
      "image/png": "[encoded data removed]",
      "text/plain": [
       "<Figure size 432x288 with 1 Axes>"
      ]
     },
     "metadata": {
      "needs_background": "light"
     },
     "output_type": "display_data"
    }
   ],
   "source": [
    "logreg_test.plotROC(y_test)"
   ]
  },
  {
   "cell_type": "markdown",
   "id": "c0b58594",
   "metadata": {},
   "source": [
    "### c. Evaluasi Model Random Forest"
   ]
  },
  {
   "cell_type": "code",
   "execution_count": 31,
   "id": "826ef023",
   "metadata": {
    "scrolled": false
   },
   "outputs": [
    {
     "name": "stdout",
     "output_type": "stream",
     "text": [
      "Akurasi RF di Data Training:\n"
     ]
    },
    {
     "data": {
      "image/png": "[encoded data removed]",
      "text/plain": [
       "<Figure size 432x288 with 2 Axes>"
      ]
     },
     "metadata": {
      "needs_background": "light"
     },
     "output_type": "display_data"
    },
    {
     "name": "stdout",
     "output_type": "stream",
     "text": [
      "Accuracy: 1.0\n",
      "Precision: 1.0\n",
      "Recall: 0.98\n",
      "F1 score: 0.99\n",
      "\n",
      "Akurasi RF di Data Test:\n"
     ]
    },
    {
     "data": {
      "image/png": "[encoded data removed]",
      "text/plain": [
       "<Figure size 432x288 with 2 Axes>"
      ]
     },
     "metadata": {
      "needs_background": "light"
     },
     "output_type": "display_data"
    },
    {
     "name": "stdout",
     "output_type": "stream",
     "text": [
      "Accuracy: 0.88\n",
      "Precision: 0.54\n",
      "Recall: 0.12\n",
      "F1 score: 0.19\n"
     ]
    }
   ],
   "source": [
    "# Prediksi Random Forest di data training\n",
    "y_train_pred_rf = pd.DataFrame(random_forest.predict(x_train_clean))\n",
    "\n",
    "# Prediksi Random Forest di data test\n",
    "y_test_pred_rf = pd.DataFrame(random_forest.predict(x_test))\n",
    "\n",
    "# Cek akurasi\n",
    "print(\"Akurasi RF di Data Training:\")\n",
    "rf_train = Model(y_train_pred_rf)\n",
    "rf_train.checkAccuracy(y_train)\n",
    "\n",
    "print(\"\")\n",
    "print(\"Akurasi RF di Data Test:\")\n",
    "rf_test = Model(y_test_pred_rf)\n",
    "rf_test.checkAccuracy(y_test)"
   ]
  },
  {
   "cell_type": "code",
   "execution_count": 32,
   "id": "9d516b7e",
   "metadata": {
    "scrolled": true
   },
   "outputs": [
    {
     "data": {
      "image/png": "[encoded data removed]",
      "text/plain": [
       "<Figure size 432x288 with 1 Axes>"
      ]
     },
     "metadata": {
      "needs_background": "light"
     },
     "output_type": "display_data"
    }
   ],
   "source": [
    "rf_train.plotROC(y_train)"
   ]
  },
  {
   "cell_type": "code",
   "execution_count": 33,
   "id": "6e557157",
   "metadata": {},
   "outputs": [
    {
     "data": {
      "image/png": "[encoded data removed]",
      "text/plain": [
       "<Figure size 432x288 with 1 Axes>"
      ]
     },
     "metadata": {
      "needs_background": "light"
     },
     "output_type": "display_data"
    }
   ],
   "source": [
    "rf_test.plotROC(y_test)"
   ]
  },
  {
   "cell_type": "markdown",
   "id": "7698115b",
   "metadata": {},
   "source": [
    "# PERCOBAAN 2: Oversample Data Imbalance"
   ]
  },
  {
   "cell_type": "markdown",
   "id": "df76d2b5",
   "metadata": {},
   "source": [
    "# 5. Data Augmentation\n",
    "## 5.1. Cek Imbalance"
   ]
  },
  {
   "cell_type": "code",
   "execution_count": 34,
   "id": "129aa6e7",
   "metadata": {
    "scrolled": true
   },
   "outputs": [
    {
     "data": {
      "text/plain": [
       "<AxesSubplot:title={'center':'Data Asli'}, xlabel='y'>"
      ]
     },
     "execution_count": 34,
     "metadata": {},
     "output_type": "execute_result"
    },
    {
     "data": {
      "image/png": "[encoded data removed]",
      "text/plain": [
       "<Figure size 432x288 with 1 Axes>"
      ]
     },
     "metadata": {
      "needs_background": "light"
     },
     "output_type": "display_data"
    }
   ],
   "source": [
    "# Cek imbalance di data asli\n",
    "df.pivot_table(index='y', aggfunc='size').plot(kind='bar', title='Data Asli')"
   ]
  },
  {
   "cell_type": "code",
   "execution_count": 35,
   "id": "9c2025fb",
   "metadata": {
    "scrolled": true
   },
   "outputs": [
    {
     "data": {
      "text/plain": [
       "<AxesSubplot:title={'center':'Data Train'}, xlabel='y'>"
      ]
     },
     "execution_count": 35,
     "metadata": {},
     "output_type": "execute_result"
    },
    {
     "data": {
      "image/png": "[encoded data removed]",
      "text/plain": [
       "<Figure size 432x288 with 1 Axes>"
      ]
     },
     "metadata": {
      "needs_background": "light"
     },
     "output_type": "display_data"
    }
   ],
   "source": [
    "# Cek imbalance di data train\n",
    "data_train.pivot_table(index='y', aggfunc='size').plot(kind='bar', title='Data Train')"
   ]
  },
  {
   "cell_type": "markdown",
   "id": "f231c9ab",
   "metadata": {},
   "source": [
    "Imbalance di data train sama dengan di data asli."
   ]
  },
  {
   "cell_type": "code",
   "execution_count": 36,
   "id": "d0015235",
   "metadata": {
    "scrolled": false
   },
   "outputs": [
    {
     "data": {
      "text/plain": [
       "<AxesSubplot:title={'center':'Data Test'}, xlabel='y'>"
      ]
     },
     "execution_count": 36,
     "metadata": {},
     "output_type": "execute_result"
    },
    {
     "data": {
      "image/png": "[encoded data removed]",
      "text/plain": [
       "<Figure size 432x288 with 1 Axes>"
      ]
     },
     "metadata": {
      "needs_background": "light"
     },
     "output_type": "display_data"
    }
   ],
   "source": [
    "data_test.pivot_table(index='y', aggfunc='size').plot(kind='bar', title='Data Test')"
   ]
  },
  {
   "cell_type": "markdown",
   "id": "386a1473",
   "metadata": {},
   "source": [
    "Imbalance di data train sama dengan di data asli."
   ]
  },
  {
   "cell_type": "markdown",
   "id": "0ecced6a",
   "metadata": {},
   "source": [
    "## 5.2. Data Augmentation dengan SMOTE"
   ]
  },
  {
   "cell_type": "code",
   "execution_count": 37,
   "id": "6110643a",
   "metadata": {},
   "outputs": [
    {
     "data": {
      "text/html": [
       "<div>\n",
       "<style scoped>\n",
       "    .dataframe tbody tr th:only-of-type {\n",
       "        vertical-align: middle;\n",
       "    }\n",
       "\n",
       "    .dataframe tbody tr th {\n",
       "        vertical-align: top;\n",
       "    }\n",
       "\n",
       "    .dataframe thead th {\n",
       "        text-align: right;\n",
       "    }\n",
       "</style>\n",
       "<table border=\"1\" class=\"dataframe\">\n",
       "  <thead>\n",
       "    <tr style=\"text-align: right;\">\n",
       "      <th></th>\n",
       "      <th>age</th>\n",
       "      <th>job</th>\n",
       "      <th>marital</th>\n",
       "      <th>education</th>\n",
       "      <th>balance</th>\n",
       "      <th>housing</th>\n",
       "      <th>loan</th>\n",
       "      <th>campaign</th>\n",
       "      <th>previous</th>\n",
       "      <th>poutcome</th>\n",
       "      <th>y</th>\n",
       "    </tr>\n",
       "  </thead>\n",
       "  <tbody>\n",
       "    <tr>\n",
       "      <th>4043</th>\n",
       "      <td>39</td>\n",
       "      <td>services</td>\n",
       "      <td>divorced</td>\n",
       "      <td>secondary</td>\n",
       "      <td>282</td>\n",
       "      <td>yes</td>\n",
       "      <td>no</td>\n",
       "      <td>1</td>\n",
       "      <td>0</td>\n",
       "      <td>unknown</td>\n",
       "      <td>0</td>\n",
       "    </tr>\n",
       "    <tr>\n",
       "      <th>1458</th>\n",
       "      <td>36</td>\n",
       "      <td>management</td>\n",
       "      <td>married</td>\n",
       "      <td>tertiary</td>\n",
       "      <td>2987</td>\n",
       "      <td>yes</td>\n",
       "      <td>no</td>\n",
       "      <td>1</td>\n",
       "      <td>0</td>\n",
       "      <td>unknown</td>\n",
       "      <td>1</td>\n",
       "    </tr>\n",
       "    <tr>\n",
       "      <th>3655</th>\n",
       "      <td>44</td>\n",
       "      <td>management</td>\n",
       "      <td>married</td>\n",
       "      <td>tertiary</td>\n",
       "      <td>1242</td>\n",
       "      <td>yes</td>\n",
       "      <td>no</td>\n",
       "      <td>6</td>\n",
       "      <td>0</td>\n",
       "      <td>unknown</td>\n",
       "      <td>0</td>\n",
       "    </tr>\n",
       "    <tr>\n",
       "      <th>4413</th>\n",
       "      <td>65</td>\n",
       "      <td>retired</td>\n",
       "      <td>married</td>\n",
       "      <td>primary</td>\n",
       "      <td>493</td>\n",
       "      <td>no</td>\n",
       "      <td>no</td>\n",
       "      <td>1</td>\n",
       "      <td>1</td>\n",
       "      <td>failure</td>\n",
       "      <td>0</td>\n",
       "    </tr>\n",
       "    <tr>\n",
       "      <th>2154</th>\n",
       "      <td>36</td>\n",
       "      <td>blue-collar</td>\n",
       "      <td>married</td>\n",
       "      <td>secondary</td>\n",
       "      <td>63</td>\n",
       "      <td>yes</td>\n",
       "      <td>no</td>\n",
       "      <td>8</td>\n",
       "      <td>0</td>\n",
       "      <td>unknown</td>\n",
       "      <td>0</td>\n",
       "    </tr>\n",
       "  </tbody>\n",
       "</table>\n",
       "</div>"
      ],
      "text/plain": [
       "      age          job   marital  education  balance housing loan  campaign  \\\n",
       "4043   39     services  divorced  secondary      282     yes   no         1   \n",
       "1458   36   management   married   tertiary     2987     yes   no         1   \n",
       "3655   44   management   married   tertiary     1242     yes   no         6   \n",
       "4413   65      retired   married    primary      493      no   no         1   \n",
       "2154   36  blue-collar   married  secondary       63     yes   no         8   \n",
       "\n",
       "      previous poutcome  y  \n",
       "4043         0  unknown  0  \n",
       "1458         0  unknown  1  \n",
       "3655         0  unknown  0  \n",
       "4413         1  failure  0  \n",
       "2154         0  unknown  0  "
      ]
     },
     "execution_count": 37,
     "metadata": {},
     "output_type": "execute_result"
    }
   ],
   "source": [
    "data_train.head()"
   ]
  },
  {
   "cell_type": "code",
   "execution_count": 38,
   "id": "885f8b52",
   "metadata": {},
   "outputs": [
    {
     "data": {
      "text/plain": [
       "<AxesSubplot:title={'center':'Class distribution after appying SMOTENC'}, xlabel='y'>"
      ]
     },
     "execution_count": 38,
     "metadata": {},
     "output_type": "execute_result"
    },
    {
     "data": {
      "image/png": "[encoded data removed]",
      "text/plain": [
       "<Figure size 432x288 with 1 Axes>"
      ]
     },
     "metadata": {
      "needs_background": "light"
     },
     "output_type": "display_data"
    }
   ],
   "source": [
    "# Data augmentation dengan SMOTENC supaya balance\n",
    "from imblearn.over_sampling import SMOTENC\n",
    "sm = SMOTENC([1,2,3,5,6,9], random_state=123)\n",
    "x_resampled, y_resampled = sm.fit_resample(x_train, y_train)\n",
    "x_resampled = extractData(data = x_resampled,\n",
    "                          numerical_column = numerical_column,\n",
    "                          categorical_column = categorical_column,\n",
    "                          ohe_column = ohe_columns,\n",
    "                          standardizer = standardizer)\n",
    "\n",
    "pd.Series(y_resampled).value_counts().plot(kind='bar', title='Class distribution after appying SMOTENC', xlabel='y')"
   ]
  },
  {
   "cell_type": "markdown",
   "id": "b80d6ae6",
   "metadata": {},
   "source": [
    "# 6. Fitting Model dengan Data Resampled"
   ]
  },
  {
   "cell_type": "markdown",
   "id": "7059fc5a",
   "metadata": {},
   "source": [
    "Misal kita gunakan 3 model ML untuk klasifikasi:\n",
    "- K-nearest neighbor (K-NN)\n",
    "- Logistic Regression\n",
    "- Random Forest"
   ]
  },
  {
   "cell_type": "markdown",
   "id": "d319bffd",
   "metadata": {},
   "source": [
    "### a. Model K-Nearest Neighbor"
   ]
  },
  {
   "cell_type": "code",
   "execution_count": 39,
   "id": "a0fe9a0f",
   "metadata": {},
   "outputs": [
    {
     "data": {
      "text/plain": [
       "KNeighborsClassifier(n_neighbors=3)"
      ]
     },
     "execution_count": 39,
     "metadata": {},
     "output_type": "execute_result"
    }
   ],
   "source": [
    "# Model K-Nearest Neighbor\n",
    "from sklearn.neighbors import KNeighborsClassifier\n",
    "\n",
    "knn = KNeighborsClassifier(n_neighbors = 3)\n",
    "knn.fit(x_resampled, y_resampled)"
   ]
  },
  {
   "cell_type": "markdown",
   "id": "c40eb6f6",
   "metadata": {},
   "source": [
    "### b. Model Logistic Regression"
   ]
  },
  {
   "cell_type": "code",
   "execution_count": 40,
   "id": "dd3125e9",
   "metadata": {
    "scrolled": false
   },
   "outputs": [
    {
     "data": {
      "text/plain": [
       "LogisticRegression(class_weight='balanced', random_state=123)"
      ]
     },
     "execution_count": 40,
     "metadata": {},
     "output_type": "execute_result"
    }
   ],
   "source": [
    "# Model Logistic Regression\n",
    "from sklearn.linear_model import LogisticRegression\n",
    "\n",
    "logreg = LogisticRegression(random_state = 123, class_weight=\"balanced\")\n",
    "logreg.fit(x_resampled, y_resampled)"
   ]
  },
  {
   "cell_type": "markdown",
   "id": "5a852a11",
   "metadata": {},
   "source": [
    "### c. Model Random Forest"
   ]
  },
  {
   "cell_type": "code",
   "execution_count": 41,
   "id": "dad69ac6",
   "metadata": {},
   "outputs": [
    {
     "data": {
      "text/plain": [
       "RandomForestClassifier(n_estimators=30, random_state=1234)"
      ]
     },
     "execution_count": 41,
     "metadata": {},
     "output_type": "execute_result"
    }
   ],
   "source": [
    "# Model Random Forest\n",
    "from sklearn.ensemble import RandomForestClassifier\n",
    "\n",
    "random_forest = RandomForestClassifier(random_state = 1234, n_estimators = 30)\n",
    "random_forest.fit(x_resampled, y_resampled)"
   ]
  },
  {
   "cell_type": "markdown",
   "id": "e422c34f",
   "metadata": {},
   "source": [
    "## 7. Evaluasi Model di Data Train Resampled dan Data Test"
   ]
  },
  {
   "cell_type": "markdown",
   "id": "ffc83958",
   "metadata": {},
   "source": [
    "### a. Evaluasi Model K-Nearest Neighbor"
   ]
  },
  {
   "cell_type": "code",
   "execution_count": 42,
   "id": "7f758de7",
   "metadata": {
    "scrolled": false
   },
   "outputs": [
    {
     "name": "stdout",
     "output_type": "stream",
     "text": [
      "Akurasi KNN di Data Training:\n"
     ]
    },
    {
     "data": {
      "image/png": "[encoded data removed]",
      "text/plain": [
       "<Figure size 432x288 with 2 Axes>"
      ]
     },
     "metadata": {
      "needs_background": "light"
     },
     "output_type": "display_data"
    },
    {
     "name": "stdout",
     "output_type": "stream",
     "text": [
      "Accuracy: 0.88\n",
      "Precision: 0.88\n",
      "Recall: 0.89\n",
      "F1 score: 0.88\n",
      "\n",
      "Akurasi KNN di Data Test:\n"
     ]
    },
    {
     "data": {
      "image/png": "[encoded data removed]",
      "text/plain": [
       "<Figure size 432x288 with 2 Axes>"
      ]
     },
     "metadata": {
      "needs_background": "light"
     },
     "output_type": "display_data"
    },
    {
     "name": "stdout",
     "output_type": "stream",
     "text": [
      "Accuracy: 0.71\n",
      "Precision: 0.2\n",
      "Recall: 0.42\n",
      "F1 score: 0.27\n"
     ]
    }
   ],
   "source": [
    "# Prediksi KNN di data train\n",
    "y_restrain_pred_knn = pd.DataFrame(knn.predict(x_resampled))\n",
    "\n",
    "# Prediksi KNN di data test\n",
    "y_restest_pred_knn = pd.DataFrame(knn.predict(x_test))\n",
    "\n",
    "# Cek akurasi\n",
    "print(\"Akurasi KNN di Data Training:\")\n",
    "knn_restrain = Model(y_restrain_pred_knn)\n",
    "knn_restrain.checkAccuracy(y_resampled)\n",
    "print(\"\")\n",
    "print(\"Akurasi KNN di Data Test:\")\n",
    "knn_restest = Model(y_restest_pred_knn)\n",
    "knn_restest.checkAccuracy(y_test)"
   ]
  },
  {
   "cell_type": "code",
   "execution_count": 43,
   "id": "99ce4b9c",
   "metadata": {
    "scrolled": true
   },
   "outputs": [
    {
     "data": {
      "image/png": "[encoded data removed]",
      "text/plain": [
       "<Figure size 432x288 with 1 Axes>"
      ]
     },
     "metadata": {
      "needs_background": "light"
     },
     "output_type": "display_data"
    }
   ],
   "source": [
    "knn_restrain.plotROC(y_resampled)"
   ]
  },
  {
   "cell_type": "code",
   "execution_count": 44,
   "id": "d26b0811",
   "metadata": {},
   "outputs": [
    {
     "data": {
      "image/png": "[encoded data removed]",
      "text/plain": [
       "<Figure size 432x288 with 1 Axes>"
      ]
     },
     "metadata": {
      "needs_background": "light"
     },
     "output_type": "display_data"
    }
   ],
   "source": [
    "knn_restest.plotROC(y_test)"
   ]
  },
  {
   "cell_type": "markdown",
   "id": "2e3e65fd",
   "metadata": {},
   "source": [
    "### b. Evaluasi Model Logistic Regression"
   ]
  },
  {
   "cell_type": "code",
   "execution_count": 45,
   "id": "74bcb402",
   "metadata": {
    "scrolled": false
   },
   "outputs": [
    {
     "name": "stdout",
     "output_type": "stream",
     "text": [
      "Akurasi LogReg di Data Training:\n"
     ]
    },
    {
     "data": {
      "image/png": "[encoded data removed]",
      "text/plain": [
       "<Figure size 432x288 with 2 Axes>"
      ]
     },
     "metadata": {
      "needs_background": "light"
     },
     "output_type": "display_data"
    },
    {
     "name": "stdout",
     "output_type": "stream",
     "text": [
      "Accuracy: 0.71\n",
      "Precision: 0.69\n",
      "Recall: 0.76\n",
      "F1 score: 0.72\n",
      "\n",
      "Akurasi LogReg di Data Test:\n"
     ]
    },
    {
     "data": {
      "image/png": "[encoded data removed]",
      "text/plain": [
       "<Figure size 432x288 with 2 Axes>"
      ]
     },
     "metadata": {
      "needs_background": "light"
     },
     "output_type": "display_data"
    },
    {
     "name": "stdout",
     "output_type": "stream",
     "text": [
      "Accuracy: 0.67\n",
      "Precision: 0.17\n",
      "Recall: 0.43\n",
      "F1 score: 0.25\n"
     ]
    }
   ],
   "source": [
    "# Prediksi LogReg di data training\n",
    "y_restrain_pred_logreg = pd.DataFrame(logreg.predict(x_resampled))\n",
    "\n",
    "# Prediksi LogReg di data test\n",
    "y_restest_pred_logreg = pd.DataFrame(logreg.predict(x_test))\n",
    "\n",
    "# Cek akurasi\n",
    "print(\"Akurasi LogReg di Data Training:\")\n",
    "logreg_restrain = Model(y_restrain_pred_logreg)\n",
    "logreg_restrain.checkAccuracy(y_resampled)\n",
    "\n",
    "print(\"\")\n",
    "print(\"Akurasi LogReg di Data Test:\")\n",
    "logreg_restest = Model(y_restest_pred_logreg)\n",
    "logreg_restest.checkAccuracy(y_test)"
   ]
  },
  {
   "cell_type": "code",
   "execution_count": 46,
   "id": "d98941b4",
   "metadata": {
    "scrolled": true
   },
   "outputs": [
    {
     "data": {
      "image/png": "[encoded data removed]",
      "text/plain": [
       "<Figure size 432x288 with 1 Axes>"
      ]
     },
     "metadata": {
      "needs_background": "light"
     },
     "output_type": "display_data"
    }
   ],
   "source": [
    "logreg_restrain.plotROC(y_resampled)"
   ]
  },
  {
   "cell_type": "code",
   "execution_count": 47,
   "id": "3eb155be",
   "metadata": {},
   "outputs": [
    {
     "data": {
      "image/png": "[encoded data removed]",
      "text/plain": [
       "<Figure size 432x288 with 1 Axes>"
      ]
     },
     "metadata": {
      "needs_background": "light"
     },
     "output_type": "display_data"
    }
   ],
   "source": [
    "logreg_restest.plotROC(y_test)"
   ]
  },
  {
   "cell_type": "markdown",
   "id": "d5720c71",
   "metadata": {},
   "source": [
    "### c. Evaluasi Model Random Forest"
   ]
  },
  {
   "cell_type": "code",
   "execution_count": 48,
   "id": "8c5f16ae",
   "metadata": {
    "scrolled": false
   },
   "outputs": [
    {
     "name": "stdout",
     "output_type": "stream",
     "text": [
      "Akurasi RF di Data Training:\n"
     ]
    },
    {
     "data": {
      "image/png": "[encoded data removed]",
      "text/plain": [
       "<Figure size 432x288 with 2 Axes>"
      ]
     },
     "metadata": {
      "needs_background": "light"
     },
     "output_type": "display_data"
    },
    {
     "name": "stdout",
     "output_type": "stream",
     "text": [
      "Accuracy: 1.0\n",
      "Precision: 1.0\n",
      "Recall: 1.0\n",
      "F1 score: 1.0\n",
      "\n",
      "Akurasi RF di Data Test:\n"
     ]
    },
    {
     "data": {
      "image/png": "[encoded data removed]",
      "text/plain": [
       "<Figure size 432x288 with 2 Axes>"
      ]
     },
     "metadata": {
      "needs_background": "light"
     },
     "output_type": "display_data"
    },
    {
     "name": "stdout",
     "output_type": "stream",
     "text": [
      "Accuracy: 0.79\n",
      "Precision: 0.22\n",
      "Recall: 0.27\n",
      "F1 score: 0.24\n"
     ]
    }
   ],
   "source": [
    "# Prediksi Random Forest di data training\n",
    "y_restrain_pred_rf = pd.DataFrame(random_forest.predict(x_resampled))\n",
    "\n",
    "# Prediksi Random Forest di data test\n",
    "y_restest_pred_rf = pd.DataFrame(random_forest.predict(x_test))\n",
    "\n",
    "# Cek akurasi\n",
    "print(\"Akurasi RF di Data Training:\")\n",
    "rf_restrain = Model(y_restrain_pred_rf)\n",
    "rf_restrain.checkAccuracy(y_resampled)\n",
    "\n",
    "print(\"\")\n",
    "print(\"Akurasi RF di Data Test:\")\n",
    "rf_restest = Model(y_restest_pred_rf)\n",
    "rf_restest.checkAccuracy(y_test)"
   ]
  },
  {
   "cell_type": "code",
   "execution_count": 49,
   "id": "62046b02",
   "metadata": {
    "scrolled": true
   },
   "outputs": [
    {
     "data": {
      "image/png": "[encoded data removed]",
      "text/plain": [
       "<Figure size 432x288 with 1 Axes>"
      ]
     },
     "metadata": {
      "needs_background": "light"
     },
     "output_type": "display_data"
    }
   ],
   "source": [
    "rf_restrain.plotROC(y_resampled)"
   ]
  },
  {
   "cell_type": "code",
   "execution_count": 50,
   "id": "b5422384",
   "metadata": {},
   "outputs": [
    {
     "data": {
      "image/png": "[encoded data removed]",
      "text/plain": [
       "<Figure size 432x288 with 1 Axes>"
      ]
     },
     "metadata": {
      "needs_background": "light"
     },
     "output_type": "display_data"
    }
   ],
   "source": [
    "rf_restest.plotROC(y_test)"
   ]
  },
  {
   "cell_type": "markdown",
   "id": "db5559e5",
   "metadata": {},
   "source": [
    "# 8. Membandingkan Model"
   ]
  },
  {
   "cell_type": "markdown",
   "id": "70e94c7f",
   "metadata": {},
   "source": [
    "## 8.1 Performa di Data Test"
   ]
  },
  {
   "cell_type": "code",
   "execution_count": 53,
   "id": "c6e108e1",
   "metadata": {
    "scrolled": false
   },
   "outputs": [
    {
     "name": "stdout",
     "output_type": "stream",
     "text": [
      "Accuracy\n",
      "KNN: 0.87\n",
      "KNN Resampled: 0.71\n",
      "LogReg: 0.7\n",
      "LogReg Resampled: 0.67\n",
      "RF: 0.88\n",
      "RF Resampled: 0.79\n",
      "\n",
      "Recall\n",
      "KNN: 0.19\n",
      "KNN Resampled: 0.42\n",
      "LogReg: 0.62\n",
      "LogReg Resampled: 0.43\n",
      "RF: 0.12\n",
      "RF Resampled: 0.27\n",
      "\n",
      "AUC\n",
      "KNN: 0.58\n",
      "KNN Resampled: 0.59\n",
      "LogReg: 0.66\n",
      "LogReg Resampled: 0.57\n",
      "RF: 0.55\n",
      "RF Resampled: 0.57\n"
     ]
    }
   ],
   "source": [
    "# Rangkuman Akurasi\n",
    "\n",
    "print(\"Accuracy\")\n",
    "print(\"KNN:\", knn_test.accuracy)\n",
    "print(\"KNN Resampled:\", knn_restest.accuracy)\n",
    "print(\"LogReg:\", logreg_test.accuracy)\n",
    "print(\"LogReg Resampled:\", logreg_restest.accuracy)\n",
    "print(\"RF:\", rf_test.accuracy)\n",
    "print(\"RF Resampled:\", rf_restest.accuracy)\n",
    "\n",
    "print(\"\")\n",
    "print(\"Recall\")\n",
    "print(\"KNN:\", knn_test.recall)\n",
    "print(\"KNN Resampled:\", knn_restest.recall)\n",
    "print(\"LogReg:\", logreg_test.recall)\n",
    "print(\"LogReg Resampled:\", logreg_restest.recall)\n",
    "print(\"RF:\", rf_test.recall)\n",
    "print(\"RF Resampled:\", rf_restest.recall)\n",
    "\n",
    "print(\"\")\n",
    "print(\"AUC\")\n",
    "print(\"KNN:\", knn_test.auc)\n",
    "print(\"KNN Resampled:\", knn_restest.auc)\n",
    "print(\"LogReg:\", logreg_test.auc)\n",
    "print(\"LogReg Resampled:\", logreg_restest.auc)\n",
    "print(\"RF:\", rf_test.auc)\n",
    "print(\"RF Resampled:\", rf_restest.auc)"
   ]
  },
  {
   "cell_type": "markdown",
   "id": "ecc26b07",
   "metadata": {},
   "source": [
    "Pemilihan model dilakukan berdasarkan performa Recall dan AUC. Dapat disimpulkan model terbaik adalah Logistic Regression dengan data train asli tanpa dilakukan SMOTENC."
   ]
  },
  {
   "cell_type": "markdown",
   "id": "1ecb46a5",
   "metadata": {},
   "source": [
    "## 8.2. Performa Model Logistic Regression"
   ]
  },
  {
   "cell_type": "code",
   "execution_count": 52,
   "id": "6039e737",
   "metadata": {},
   "outputs": [
    {
     "name": "stdout",
     "output_type": "stream",
     "text": [
      "Data Train\n",
      "Accuracy: 0.7\n",
      "Precision: 0.2\n",
      "Recall: 0.58\n",
      "F1 score: 0.3\n",
      "AUC: 0.65\n",
      "\n",
      "Data Test\n",
      "Accuracy: 0.7\n",
      "Precision: 0.23\n",
      "Recall: 0.62\n",
      "F1 score: 0.34\n",
      "AUC: 0.66\n"
     ]
    }
   ],
   "source": [
    "print(\"Data Train\")\n",
    "logreg_train.printAccuracy()\n",
    "\n",
    "print(\"\")\n",
    "print(\"Data Test\")\n",
    "logreg_test.printAccuracy()"
   ]
  }
 ],
 "metadata": {
  "kernelspec": {
   "display_name": "Python 3 (ipykernel)",
   "language": "python",
   "name": "python3"
  },
  "language_info": {
   "codemirror_mode": {
    "name": "ipython",
    "version": 3
   },
   "file_extension": ".py",
   "mimetype": "text/x-python",
   "name": "python",
   "nbconvert_exporter": "python",
   "pygments_lexer": "ipython3",
   "version": "3.9.12"
  }
 },
 "nbformat": 4,
 "nbformat_minor": 5
}
